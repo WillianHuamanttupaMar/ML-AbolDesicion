{
 "cells": [
  {
   "cell_type": "markdown",
   "metadata": {},
   "source": [
    "## Willia Huamanttupa Mar"
   ]
  },
  {
   "cell_type": "code",
   "execution_count": 1,
   "metadata": {},
   "outputs": [],
   "source": [
    "import numpy as np\n",
    "import pandas as pd\n",
    "import matplotlib.pyplot as plt\n",
    "import seaborn as sns"
   ]
  },
  {
   "cell_type": "code",
   "execution_count": 2,
   "metadata": {},
   "outputs": [
    {
     "name": "stdout",
     "output_type": "stream",
     "text": [
      "dfo Shape: (115, 4)\n"
     ]
    },
    {
     "data": {
      "text/html": [
       "<div>\n",
       "<style scoped>\n",
       "    .dataframe tbody tr th:only-of-type {\n",
       "        vertical-align: middle;\n",
       "    }\n",
       "\n",
       "    .dataframe tbody tr th {\n",
       "        vertical-align: top;\n",
       "    }\n",
       "\n",
       "    .dataframe thead th {\n",
       "        text-align: right;\n",
       "    }\n",
       "</style>\n",
       "<table border=\"1\" class=\"dataframe\">\n",
       "  <thead>\n",
       "    <tr style=\"text-align: right;\">\n",
       "      <th></th>\n",
       "      <th>clase</th>\n",
       "      <th>glucosa</th>\n",
       "      <th>insulina</th>\n",
       "      <th>sspg</th>\n",
       "    </tr>\n",
       "  </thead>\n",
       "  <tbody>\n",
       "    <tr>\n",
       "      <th>0</th>\n",
       "      <td>1</td>\n",
       "      <td>97</td>\n",
       "      <td>289</td>\n",
       "      <td>117</td>\n",
       "    </tr>\n",
       "    <tr>\n",
       "      <th>1</th>\n",
       "      <td>1</td>\n",
       "      <td>105</td>\n",
       "      <td>319</td>\n",
       "      <td>143</td>\n",
       "    </tr>\n",
       "    <tr>\n",
       "      <th>2</th>\n",
       "      <td>1</td>\n",
       "      <td>90</td>\n",
       "      <td>356</td>\n",
       "      <td>199</td>\n",
       "    </tr>\n",
       "  </tbody>\n",
       "</table>\n",
       "</div>"
      ],
      "text/plain": [
       "   clase  glucosa  insulina  sspg\n",
       "0      1       97       289   117\n",
       "1      1      105       319   143\n",
       "2      1       90       356   199"
      ]
     },
     "execution_count": 2,
     "metadata": {},
     "output_type": "execute_result"
    }
   ],
   "source": [
    "missing_values = ['NA','na','--','?','-','None','none','non','nil','NaN']\n",
    "dfo = pd.read_excel('./datos/diabetes_py.xlsx',sheet_name='diabetes_python.xlsx', na_values=missing_values, encoding = \"ISO-8859-1\")\n",
    "#dfo = pd.read_csv('diabetes_python.csv', na_values=missing_values, encoding = \"ISO-8859-1\", sep=';') \n",
    "#bu = pd.read_excel('./datos/diabetes_py.xlsx')\n",
    "print('dfo Shape:',dfo.shape)\n",
    "#dfo.head()\n",
    "dfo.head(3)\n",
    "#dfo.columns"
   ]
  },
  {
   "cell_type": "markdown",
   "metadata": {},
   "source": [
    "## Data select"
   ]
  },
  {
   "cell_type": "code",
   "execution_count": 3,
   "metadata": {},
   "outputs": [
    {
     "data": {
      "text/plain": [
       "Index(['clase', 'glucosa', 'insulina', 'sspg'], dtype='object')"
      ]
     },
     "execution_count": 3,
     "metadata": {},
     "output_type": "execute_result"
    }
   ],
   "source": [
    "dfo.columns"
   ]
  },
  {
   "cell_type": "code",
   "execution_count": 4,
   "metadata": {},
   "outputs": [
    {
     "name": "stdout",
     "output_type": "stream",
     "text": [
      "df shape: (115, 4)\n"
     ]
    },
    {
     "data": {
      "text/html": [
       "<div>\n",
       "<style scoped>\n",
       "    .dataframe tbody tr th:only-of-type {\n",
       "        vertical-align: middle;\n",
       "    }\n",
       "\n",
       "    .dataframe tbody tr th {\n",
       "        vertical-align: top;\n",
       "    }\n",
       "\n",
       "    .dataframe thead th {\n",
       "        text-align: right;\n",
       "    }\n",
       "</style>\n",
       "<table border=\"1\" class=\"dataframe\">\n",
       "  <thead>\n",
       "    <tr style=\"text-align: right;\">\n",
       "      <th></th>\n",
       "      <th>clase</th>\n",
       "      <th>glucosa</th>\n",
       "      <th>insulina</th>\n",
       "      <th>sspg</th>\n",
       "    </tr>\n",
       "  </thead>\n",
       "  <tbody>\n",
       "    <tr>\n",
       "      <th>0</th>\n",
       "      <td>1</td>\n",
       "      <td>97</td>\n",
       "      <td>289</td>\n",
       "      <td>117</td>\n",
       "    </tr>\n",
       "    <tr>\n",
       "      <th>1</th>\n",
       "      <td>1</td>\n",
       "      <td>105</td>\n",
       "      <td>319</td>\n",
       "      <td>143</td>\n",
       "    </tr>\n",
       "    <tr>\n",
       "      <th>2</th>\n",
       "      <td>1</td>\n",
       "      <td>90</td>\n",
       "      <td>356</td>\n",
       "      <td>199</td>\n",
       "    </tr>\n",
       "    <tr>\n",
       "      <th>3</th>\n",
       "      <td>1</td>\n",
       "      <td>90</td>\n",
       "      <td>323</td>\n",
       "      <td>240</td>\n",
       "    </tr>\n",
       "    <tr>\n",
       "      <th>4</th>\n",
       "      <td>1</td>\n",
       "      <td>86</td>\n",
       "      <td>381</td>\n",
       "      <td>157</td>\n",
       "    </tr>\n",
       "  </tbody>\n",
       "</table>\n",
       "</div>"
      ],
      "text/plain": [
       "   clase  glucosa  insulina  sspg\n",
       "0      1       97       289   117\n",
       "1      1      105       319   143\n",
       "2      1       90       356   199\n",
       "3      1       90       323   240\n",
       "4      1       86       381   157"
      ]
     },
     "execution_count": 4,
     "metadata": {},
     "output_type": "execute_result"
    }
   ],
   "source": [
    "cols = ['clase', 'glucosa', 'insulina', 'sspg']\n",
    "\n",
    "df = dfo[cols]\n",
    "\n",
    "print('df shape:',df.shape)\n",
    "df.head()"
   ]
  },
  {
   "cell_type": "markdown",
   "metadata": {},
   "source": [
    "## Limpieza"
   ]
  },
  {
   "cell_type": "code",
   "execution_count": 5,
   "metadata": {},
   "outputs": [
    {
     "data": {
      "text/plain": [
       "False"
      ]
     },
     "execution_count": 5,
     "metadata": {},
     "output_type": "execute_result"
    }
   ],
   "source": [
    "# Controlando valores nulos\n",
    "df.isnull().any().any()"
   ]
  },
  {
   "cell_type": "code",
   "execution_count": 6,
   "metadata": {},
   "outputs": [
    {
     "data": {
      "text/plain": [
       "clase       0.0\n",
       "glucosa     0.0\n",
       "insulina    0.0\n",
       "sspg        0.0\n",
       "dtype: float64"
      ]
     },
     "execution_count": 6,
     "metadata": {},
     "output_type": "execute_result"
    }
   ],
   "source": [
    "#porcentaje de valores null por columna\n",
    "(df.isnull().sum() / len(df))*100"
   ]
  },
  {
   "cell_type": "code",
   "execution_count": 7,
   "metadata": {},
   "outputs": [
    {
     "name": "stdout",
     "output_type": "stream",
     "text": [
      "df shape: (115, 4)\n",
      "df_2 shape: (115, 4)\n"
     ]
    }
   ],
   "source": [
    "#Eliminar los valores nulos\n",
    "df_2 = df.dropna()\n",
    "print('df shape:',df.shape)\n",
    "print('df_2 shape:',df_2.shape)"
   ]
  },
  {
   "cell_type": "code",
   "execution_count": 10,
   "metadata": {},
   "outputs": [
    {
     "data": {
      "text/plain": [
       "clase       0.0\n",
       "glucosa     0.0\n",
       "insulina    0.0\n",
       "sspg        0.0\n",
       "dtype: float64"
      ]
     },
     "execution_count": 10,
     "metadata": {},
     "output_type": "execute_result"
    }
   ],
   "source": [
    "#porcentaje de valores null por columna\n",
    "(df_2.isnull().sum() / len(df_2))*100"
   ]
  },
  {
   "cell_type": "code",
   "execution_count": 11,
   "metadata": {},
   "outputs": [
    {
     "data": {
      "text/plain": [
       "1    66\n",
       "2    26\n",
       "3    23\n",
       "Name: clase, dtype: int64"
      ]
     },
     "execution_count": 11,
     "metadata": {},
     "output_type": "execute_result"
    }
   ],
   "source": [
    "pd.value_counts(df_2['clase'], sort = True) \n",
    "### clase 1 = normal\n",
    "### clase 2 = pre-diabetico\n",
    "### clase 3 = diabetico"
   ]
  },
  {
   "cell_type": "markdown",
   "metadata": {},
   "source": [
    "## Transformación"
   ]
  },
  {
   "cell_type": "code",
   "execution_count": 12,
   "metadata": {},
   "outputs": [
    {
     "name": "stdout",
     "output_type": "stream",
     "text": [
      "df_2 shape: (115, 4)\n",
      "1    66\n",
      "2    26\n",
      "3    23\n",
      "Name: clase, dtype: int64\n"
     ]
    }
   ],
   "source": [
    "print('df_2 shape:',df_2.shape)\n",
    "print(pd.value_counts(df_2['clase'], sort = True))"
   ]
  },
  {
   "cell_type": "markdown",
   "metadata": {},
   "source": [
    "## Observar las relaciones mediante una matriz de correlaciones\n"
   ]
  },
  {
   "cell_type": "code",
   "execution_count": 14,
   "metadata": {},
   "outputs": [
    {
     "data": {
      "text/plain": [
       "clase       1.000000\n",
       "insulina    0.833399\n",
       "glucosa     0.728553\n",
       "sspg       -0.052124\n",
       "Name: clase, dtype: float64"
      ]
     },
     "execution_count": 14,
     "metadata": {},
     "output_type": "execute_result"
    }
   ],
   "source": [
    "df_2.corr()['clase'].sort_values(ascending=False)"
   ]
  },
  {
   "cell_type": "code",
   "execution_count": 15,
   "metadata": {},
   "outputs": [
    {
     "data": {
      "text/plain": [
       "clase       1.000000\n",
       "insulina    0.833399\n",
       "glucosa     0.728553\n",
       "Name: clase, dtype: float64"
      ]
     },
     "execution_count": 15,
     "metadata": {},
     "output_type": "execute_result"
    }
   ],
   "source": [
    "cols_f = ['clase', 'glucosa', 'insulina']\n",
    "df_2[cols_f].corr()['clase'].sort_values(ascending=False)"
   ]
  },
  {
   "cell_type": "code",
   "execution_count": 16,
   "metadata": {},
   "outputs": [
    {
     "data": {
      "image/png": "[encoded data removed]",
      "text/plain": [
       "<Figure size 540x540 with 12 Axes>"
      ]
     },
     "metadata": {
      "needs_background": "light"
     },
     "output_type": "display_data"
    }
   ],
   "source": [
    "sns.pairplot(df_2[cols_f], height=2.5)\n",
    "plt.tight_layout()\n",
    "# plt.savefig('imagenes/10_03.png', dpi=300)\n",
    "plt.show()"
   ]
  },
  {
   "cell_type": "code",
   "execution_count": 17,
   "metadata": {},
   "outputs": [
    {
     "data": {
      "text/html": [
       "<div>\n",
       "<style scoped>\n",
       "    .dataframe tbody tr th:only-of-type {\n",
       "        vertical-align: middle;\n",
       "    }\n",
       "\n",
       "    .dataframe tbody tr th {\n",
       "        vertical-align: top;\n",
       "    }\n",
       "\n",
       "    .dataframe thead th {\n",
       "        text-align: right;\n",
       "    }\n",
       "</style>\n",
       "<table border=\"1\" class=\"dataframe\">\n",
       "  <thead>\n",
       "    <tr style=\"text-align: right;\">\n",
       "      <th></th>\n",
       "      <th>clase</th>\n",
       "      <th>glucosa</th>\n",
       "      <th>insulina</th>\n",
       "    </tr>\n",
       "  </thead>\n",
       "  <tbody>\n",
       "    <tr>\n",
       "      <th>0</th>\n",
       "      <td>1</td>\n",
       "      <td>97</td>\n",
       "      <td>289</td>\n",
       "    </tr>\n",
       "    <tr>\n",
       "      <th>1</th>\n",
       "      <td>1</td>\n",
       "      <td>105</td>\n",
       "      <td>319</td>\n",
       "    </tr>\n",
       "    <tr>\n",
       "      <th>2</th>\n",
       "      <td>1</td>\n",
       "      <td>90</td>\n",
       "      <td>356</td>\n",
       "    </tr>\n",
       "    <tr>\n",
       "      <th>3</th>\n",
       "      <td>1</td>\n",
       "      <td>90</td>\n",
       "      <td>323</td>\n",
       "    </tr>\n",
       "    <tr>\n",
       "      <th>4</th>\n",
       "      <td>1</td>\n",
       "      <td>86</td>\n",
       "      <td>381</td>\n",
       "    </tr>\n",
       "    <tr>\n",
       "      <th>...</th>\n",
       "      <td>...</td>\n",
       "      <td>...</td>\n",
       "      <td>...</td>\n",
       "    </tr>\n",
       "    <tr>\n",
       "      <th>110</th>\n",
       "      <td>3</td>\n",
       "      <td>120</td>\n",
       "      <td>636</td>\n",
       "    </tr>\n",
       "    <tr>\n",
       "      <th>111</th>\n",
       "      <td>3</td>\n",
       "      <td>138</td>\n",
       "      <td>741</td>\n",
       "    </tr>\n",
       "    <tr>\n",
       "      <th>112</th>\n",
       "      <td>3</td>\n",
       "      <td>188</td>\n",
       "      <td>958</td>\n",
       "    </tr>\n",
       "    <tr>\n",
       "      <th>113</th>\n",
       "      <td>3</td>\n",
       "      <td>339</td>\n",
       "      <td>1354</td>\n",
       "    </tr>\n",
       "    <tr>\n",
       "      <th>114</th>\n",
       "      <td>3</td>\n",
       "      <td>213</td>\n",
       "      <td>1025</td>\n",
       "    </tr>\n",
       "  </tbody>\n",
       "</table>\n",
       "<p>115 rows × 3 columns</p>\n",
       "</div>"
      ],
      "text/plain": [
       "     clase  glucosa  insulina\n",
       "0        1       97       289\n",
       "1        1      105       319\n",
       "2        1       90       356\n",
       "3        1       90       323\n",
       "4        1       86       381\n",
       "..     ...      ...       ...\n",
       "110      3      120       636\n",
       "111      3      138       741\n",
       "112      3      188       958\n",
       "113      3      339      1354\n",
       "114      3      213      1025\n",
       "\n",
       "[115 rows x 3 columns]"
      ]
     },
     "execution_count": 17,
     "metadata": {},
     "output_type": "execute_result"
    }
   ],
   "source": [
    "df_2[cols_f]"
   ]
  },
  {
   "cell_type": "code",
   "execution_count": 18,
   "metadata": {},
   "outputs": [],
   "source": [
    "cols_fea = ['glucosa', 'insulina']"
   ]
  },
  {
   "cell_type": "markdown",
   "metadata": {},
   "source": [
    "## Separar la data de ajuste y test"
   ]
  },
  {
   "cell_type": "code",
   "execution_count": 19,
   "metadata": {},
   "outputs": [],
   "source": [
    "from sklearn.model_selection import train_test_split"
   ]
  },
  {
   "cell_type": "code",
   "execution_count": 20,
   "metadata": {},
   "outputs": [
    {
     "data": {
      "text/plain": [
       "array([[  97,  289],\n",
       "       [ 105,  319],\n",
       "       [  90,  356],\n",
       "       [  90,  323],\n",
       "       [  86,  381],\n",
       "       [ 100,  350],\n",
       "       [  85,  301],\n",
       "       [  97,  379],\n",
       "       [  97,  296],\n",
       "       [  91,  353],\n",
       "       [  87,  306],\n",
       "       [  78,  290],\n",
       "       [  90,  371],\n",
       "       [  80,  393],\n",
       "       [  90,  364],\n",
       "       [  99,  359],\n",
       "       [  85,  296],\n",
       "       [  90,  345],\n",
       "       [  90,  378],\n",
       "       [  88,  304],\n",
       "       [  90,  327],\n",
       "       [  92,  386],\n",
       "       [  98,  365],\n",
       "       [ 100,  352],\n",
       "       [  86,  325],\n",
       "       [  98,  321],\n",
       "       [  70,  360],\n",
       "       [  99,  336],\n",
       "       [  75,  352],\n",
       "       [  90,  353],\n",
       "       [  85,  373],\n",
       "       [  99,  376],\n",
       "       [ 100,  367],\n",
       "       [  78,  335],\n",
       "       [ 106,  396],\n",
       "       [ 102,  378],\n",
       "       [  90,  360],\n",
       "       [  94,  291],\n",
       "       [  80,  269],\n",
       "       [  93,  318],\n",
       "       [  96,  356],\n",
       "       [  88,  291],\n",
       "       [  94,  313],\n",
       "       [  93,  306],\n",
       "       [  86,  319],\n",
       "       [  96,  332],\n",
       "       [  86,  323],\n",
       "       [  89,  323],\n",
       "       [  83,  351],\n",
       "       [  98,  478],\n",
       "       [ 100,  398],\n",
       "       [ 110,  426],\n",
       "       [  88,  439],\n",
       "       [  80,  333],\n",
       "       [  91,  436],\n",
       "       [  96,  418],\n",
       "       [  95,  391],\n",
       "       [  84,  416],\n",
       "       [ 100,  385],\n",
       "       [  86,  393],\n",
       "       [  93,  376],\n",
       "       [ 107,  403],\n",
       "       [ 112,  414],\n",
       "       [  94,  426],\n",
       "       [  93,  364],\n",
       "       [  93,  391],\n",
       "       [  90,  356],\n",
       "       [  99,  398],\n",
       "       [  93,  393],\n",
       "       [  85,  425],\n",
       "       [  89,  318],\n",
       "       [ 111,  558],\n",
       "       [ 114,  540],\n",
       "       [ 101,  469],\n",
       "       [ 112,  568],\n",
       "       [ 105,  527],\n",
       "       [ 103,  537],\n",
       "       [  99,  466],\n",
       "       [ 102,  599],\n",
       "       [  96,  456],\n",
       "       [  95,  517],\n",
       "       [ 110,  522],\n",
       "       [  92,  476],\n",
       "       [ 104,  472],\n",
       "       [  92,  442],\n",
       "       [  92,  541],\n",
       "       [  92,  580],\n",
       "       [  93,  472],\n",
       "       [ 112,  562],\n",
       "       [  88,  423],\n",
       "       [ 114,  643],\n",
       "       [ 103,  533],\n",
       "       [ 303, 1487],\n",
       "       [ 125,  714],\n",
       "       [ 280, 1470],\n",
       "       [ 216, 1113],\n",
       "       [ 190,  972],\n",
       "       [ 303, 1364],\n",
       "       [ 173,  832],\n",
       "       [ 203,  967],\n",
       "       [ 140,  613],\n",
       "       [ 275, 1373],\n",
       "       [ 260, 1133],\n",
       "       [ 233, 1183],\n",
       "       [ 146,  847],\n",
       "       [ 124,  538],\n",
       "       [ 213, 1001],\n",
       "       [ 330, 1520],\n",
       "       [ 123,  557],\n",
       "       [ 130,  670],\n",
       "       [ 120,  636],\n",
       "       [ 138,  741],\n",
       "       [ 188,  958],\n",
       "       [ 339, 1354],\n",
       "       [ 213, 1025]])"
      ]
     },
     "execution_count": 20,
     "metadata": {},
     "output_type": "execute_result"
    }
   ],
   "source": [
    "df_2[cols_fea].values"
   ]
  },
  {
   "cell_type": "code",
   "execution_count": 21,
   "metadata": {},
   "outputs": [
    {
     "data": {
      "text/plain": [
       "array([1, 1, 1, 1, 1, 1, 1, 1, 1, 1, 1, 1, 1, 1, 1, 1, 1, 1, 1, 1, 1, 1,\n",
       "       1, 1, 1, 1, 1, 1, 1, 1, 1, 1, 1, 1, 1, 1, 1, 1, 1, 1, 1, 1, 1, 1,\n",
       "       1, 1, 1, 1, 1, 2, 1, 1, 2, 1, 2, 1, 1, 1, 1, 1, 1, 1, 1, 2, 1, 1,\n",
       "       1, 1, 1, 2, 1, 2, 2, 2, 2, 2, 2, 2, 2, 2, 2, 2, 2, 2, 2, 2, 2, 2,\n",
       "       2, 2, 2, 2, 3, 3, 3, 3, 3, 3, 3, 3, 3, 3, 3, 3, 3, 3, 3, 3, 3, 3,\n",
       "       3, 3, 3, 3, 3])"
      ]
     },
     "execution_count": 21,
     "metadata": {},
     "output_type": "execute_result"
    }
   ],
   "source": [
    "df_2[cols_f]['clase'].values"
   ]
  },
  {
   "cell_type": "code",
   "execution_count": 22,
   "metadata": {},
   "outputs": [],
   "source": [
    "X = df_2[cols_fea].values #df_4[cols_fea].iloc[:, :-1].values\n",
    "y = df_2[cols_f]['clase'].values"
   ]
  },
  {
   "cell_type": "code",
   "execution_count": 25,
   "metadata": {},
   "outputs": [],
   "source": [
    "X_train, X_test, y_train, y_test = train_test_split(X, y, test_size=0.2, random_state=0)"
   ]
  },
  {
   "cell_type": "code",
   "execution_count": 26,
   "metadata": {},
   "outputs": [
    {
     "data": {
      "text/plain": [
       "array([[  87,  306],\n",
       "       [ 112,  568],\n",
       "       [  90,  356],\n",
       "       [ 110,  426],\n",
       "       [  97,  379],\n",
       "       [ 102,  599],\n",
       "       [ 103,  533],\n",
       "       [  88,  423],\n",
       "       [ 213, 1001],\n",
       "       [ 112,  414],\n",
       "       [  85,  373],\n",
       "       [  90,  356],\n",
       "       [ 125,  714],\n",
       "       [  98,  365],\n",
       "       [  93,  306],\n",
       "       [ 330, 1520],\n",
       "       [  86,  325],\n",
       "       [ 101,  469],\n",
       "       [  93,  376],\n",
       "       [  95,  391],\n",
       "       [  85,  296],\n",
       "       [  80,  393],\n",
       "       [  70,  360]])"
      ]
     },
     "execution_count": 26,
     "metadata": {},
     "output_type": "execute_result"
    }
   ],
   "source": [
    "X_test"
   ]
  },
  {
   "cell_type": "code",
   "execution_count": 27,
   "metadata": {},
   "outputs": [
    {
     "data": {
      "text/plain": [
       "array([1, 2, 1, 1, 1, 2, 2, 2, 3, 1, 1, 1, 3, 1, 1, 3, 1, 2, 1, 1, 1, 1,\n",
       "       1])"
      ]
     },
     "execution_count": 27,
     "metadata": {},
     "output_type": "execute_result"
    }
   ],
   "source": [
    "y_test"
   ]
  },
  {
   "cell_type": "markdown",
   "metadata": {},
   "source": [
    "## Modelado"
   ]
  },
  {
   "cell_type": "code",
   "execution_count": 28,
   "metadata": {},
   "outputs": [],
   "source": [
    "from numpy import array\n",
    "from sklearn.linear_model import LogisticRegression\n",
    "from sklearn.discriminant_analysis import LinearDiscriminantAnalysis\n",
    "from sklearn.svm import SVC\n",
    "from sklearn.linear_model import SGDClassifier\n",
    "from sklearn.neighbors import KNeighborsClassifier\n",
    "from sklearn.naive_bayes import GaussianNB \n",
    "from sklearn.tree import DecisionTreeClassifier \n",
    "from sklearn.ensemble import RandomForestClassifier\n",
    "from sklearn.neural_network import MLPClassifier\n",
    "from xgboost import XGBClassifier\n",
    "from sklearn.model_selection import KFold, cross_val_score\n",
    "from sklearn.metrics import accuracy_score\n",
    "from sklearn.metrics import confusion_matrix\n",
    "from sklearn.metrics import classification_report"
   ]
  },
  {
   "cell_type": "code",
   "execution_count": null,
   "metadata": {},
   "outputs": [],
   "source": [
    "#pip install xgboost"
   ]
  },
  {
   "cell_type": "code",
   "execution_count": 29,
   "metadata": {},
   "outputs": [
    {
     "name": "stderr",
     "output_type": "stream",
     "text": [
      "/opt/conda/lib/python3.8/site-packages/sklearn/model_selection/_split.py:293: FutureWarning: Setting a random_state has no effect since shuffle is False. This will raise an error in 0.24. You should leave random_state to its default (None), or set shuffle=True.\n",
      "  warnings.warn(\n",
      "/opt/conda/lib/python3.8/site-packages/sklearn/linear_model/_logistic.py:762: ConvergenceWarning: lbfgs failed to converge (status=1):\n",
      "STOP: TOTAL NO. of ITERATIONS REACHED LIMIT.\n",
      "\n",
      "Increase the number of iterations (max_iter) or scale the data as shown in:\n",
      "    https://scikit-learn.org/stable/modules/preprocessing.html\n",
      "Please also refer to the documentation for alternative solver options:\n",
      "    https://scikit-learn.org/stable/modules/linear_model.html#logistic-regression\n",
      "  n_iter_i = _check_optimize_result(\n",
      "/opt/conda/lib/python3.8/site-packages/sklearn/linear_model/_logistic.py:762: ConvergenceWarning: lbfgs failed to converge (status=1):\n",
      "STOP: TOTAL NO. of ITERATIONS REACHED LIMIT.\n",
      "\n",
      "Increase the number of iterations (max_iter) or scale the data as shown in:\n",
      "    https://scikit-learn.org/stable/modules/preprocessing.html\n",
      "Please also refer to the documentation for alternative solver options:\n",
      "    https://scikit-learn.org/stable/modules/linear_model.html#logistic-regression\n",
      "  n_iter_i = _check_optimize_result(\n",
      "/opt/conda/lib/python3.8/site-packages/sklearn/linear_model/_logistic.py:762: ConvergenceWarning: lbfgs failed to converge (status=1):\n",
      "STOP: TOTAL NO. of ITERATIONS REACHED LIMIT.\n",
      "\n",
      "Increase the number of iterations (max_iter) or scale the data as shown in:\n",
      "    https://scikit-learn.org/stable/modules/preprocessing.html\n",
      "Please also refer to the documentation for alternative solver options:\n",
      "    https://scikit-learn.org/stable/modules/linear_model.html#logistic-regression\n",
      "  n_iter_i = _check_optimize_result(\n",
      "/opt/conda/lib/python3.8/site-packages/sklearn/linear_model/_logistic.py:762: ConvergenceWarning: lbfgs failed to converge (status=1):\n",
      "STOP: TOTAL NO. of ITERATIONS REACHED LIMIT.\n",
      "\n",
      "Increase the number of iterations (max_iter) or scale the data as shown in:\n",
      "    https://scikit-learn.org/stable/modules/preprocessing.html\n",
      "Please also refer to the documentation for alternative solver options:\n",
      "    https://scikit-learn.org/stable/modules/linear_model.html#logistic-regression\n",
      "  n_iter_i = _check_optimize_result(\n",
      "/opt/conda/lib/python3.8/site-packages/sklearn/linear_model/_logistic.py:762: ConvergenceWarning: lbfgs failed to converge (status=1):\n",
      "STOP: TOTAL NO. of ITERATIONS REACHED LIMIT.\n",
      "\n",
      "Increase the number of iterations (max_iter) or scale the data as shown in:\n",
      "    https://scikit-learn.org/stable/modules/preprocessing.html\n",
      "Please also refer to the documentation for alternative solver options:\n",
      "    https://scikit-learn.org/stable/modules/linear_model.html#logistic-regression\n",
      "  n_iter_i = _check_optimize_result(\n",
      "/opt/conda/lib/python3.8/site-packages/sklearn/linear_model/_logistic.py:762: ConvergenceWarning: lbfgs failed to converge (status=1):\n",
      "STOP: TOTAL NO. of ITERATIONS REACHED LIMIT.\n",
      "\n",
      "Increase the number of iterations (max_iter) or scale the data as shown in:\n",
      "    https://scikit-learn.org/stable/modules/preprocessing.html\n",
      "Please also refer to the documentation for alternative solver options:\n",
      "    https://scikit-learn.org/stable/modules/linear_model.html#logistic-regression\n",
      "  n_iter_i = _check_optimize_result(\n",
      "/opt/conda/lib/python3.8/site-packages/sklearn/linear_model/_logistic.py:762: ConvergenceWarning: lbfgs failed to converge (status=1):\n",
      "STOP: TOTAL NO. of ITERATIONS REACHED LIMIT.\n",
      "\n",
      "Increase the number of iterations (max_iter) or scale the data as shown in:\n",
      "    https://scikit-learn.org/stable/modules/preprocessing.html\n",
      "Please also refer to the documentation for alternative solver options:\n",
      "    https://scikit-learn.org/stable/modules/linear_model.html#logistic-regression\n",
      "  n_iter_i = _check_optimize_result(\n",
      "/opt/conda/lib/python3.8/site-packages/sklearn/linear_model/_logistic.py:762: ConvergenceWarning: lbfgs failed to converge (status=1):\n",
      "STOP: TOTAL NO. of ITERATIONS REACHED LIMIT.\n",
      "\n",
      "Increase the number of iterations (max_iter) or scale the data as shown in:\n",
      "    https://scikit-learn.org/stable/modules/preprocessing.html\n",
      "Please also refer to the documentation for alternative solver options:\n",
      "    https://scikit-learn.org/stable/modules/linear_model.html#logistic-regression\n",
      "  n_iter_i = _check_optimize_result(\n",
      "/opt/conda/lib/python3.8/site-packages/sklearn/linear_model/_logistic.py:762: ConvergenceWarning: lbfgs failed to converge (status=1):\n",
      "STOP: TOTAL NO. of ITERATIONS REACHED LIMIT.\n",
      "\n",
      "Increase the number of iterations (max_iter) or scale the data as shown in:\n",
      "    https://scikit-learn.org/stable/modules/preprocessing.html\n",
      "Please also refer to the documentation for alternative solver options:\n",
      "    https://scikit-learn.org/stable/modules/linear_model.html#logistic-regression\n",
      "  n_iter_i = _check_optimize_result(\n",
      "/opt/conda/lib/python3.8/site-packages/sklearn/linear_model/_logistic.py:762: ConvergenceWarning: lbfgs failed to converge (status=1):\n",
      "STOP: TOTAL NO. of ITERATIONS REACHED LIMIT.\n",
      "\n",
      "Increase the number of iterations (max_iter) or scale the data as shown in:\n",
      "    https://scikit-learn.org/stable/modules/preprocessing.html\n",
      "Please also refer to the documentation for alternative solver options:\n",
      "    https://scikit-learn.org/stable/modules/linear_model.html#logistic-regression\n",
      "  n_iter_i = _check_optimize_result(\n",
      "/opt/conda/lib/python3.8/site-packages/sklearn/model_selection/_split.py:293: FutureWarning: Setting a random_state has no effect since shuffle is False. This will raise an error in 0.24. You should leave random_state to its default (None), or set shuffle=True.\n",
      "  warnings.warn(\n"
     ]
    },
    {
     "name": "stdout",
     "output_type": "stream",
     "text": [
      "LRN: 0.958889 (0.067412)\n",
      "LDA: 0.903333 (0.074378)\n",
      "SVM: 0.882222 (0.085085)\n"
     ]
    },
    {
     "name": "stderr",
     "output_type": "stream",
     "text": [
      "/opt/conda/lib/python3.8/site-packages/sklearn/model_selection/_split.py:293: FutureWarning: Setting a random_state has no effect since shuffle is False. This will raise an error in 0.24. You should leave random_state to its default (None), or set shuffle=True.\n",
      "  warnings.warn(\n",
      "/opt/conda/lib/python3.8/site-packages/sklearn/model_selection/_split.py:293: FutureWarning: Setting a random_state has no effect since shuffle is False. This will raise an error in 0.24. You should leave random_state to its default (None), or set shuffle=True.\n",
      "  warnings.warn(\n"
     ]
    },
    {
     "name": "stdout",
     "output_type": "stream",
     "text": [
      "SGD: 0.528889 (0.171428)\n",
      "KNN: 0.955556 (0.073703)\n"
     ]
    },
    {
     "name": "stderr",
     "output_type": "stream",
     "text": [
      "/opt/conda/lib/python3.8/site-packages/sklearn/model_selection/_split.py:293: FutureWarning: Setting a random_state has no effect since shuffle is False. This will raise an error in 0.24. You should leave random_state to its default (None), or set shuffle=True.\n",
      "  warnings.warn(\n",
      "/opt/conda/lib/python3.8/site-packages/sklearn/model_selection/_split.py:293: FutureWarning: Setting a random_state has no effect since shuffle is False. This will raise an error in 0.24. You should leave random_state to its default (None), or set shuffle=True.\n",
      "  warnings.warn(\n"
     ]
    },
    {
     "name": "stdout",
     "output_type": "stream",
     "text": [
      "GNB: 0.925556 (0.091631)\n",
      "DTS: 1.000000 (0.000000)\n"
     ]
    },
    {
     "name": "stderr",
     "output_type": "stream",
     "text": [
      "/opt/conda/lib/python3.8/site-packages/sklearn/model_selection/_split.py:293: FutureWarning: Setting a random_state has no effect since shuffle is False. This will raise an error in 0.24. You should leave random_state to its default (None), or set shuffle=True.\n",
      "  warnings.warn(\n",
      "/opt/conda/lib/python3.8/site-packages/sklearn/model_selection/_split.py:293: FutureWarning: Setting a random_state has no effect since shuffle is False. This will raise an error in 0.24. You should leave random_state to its default (None), or set shuffle=True.\n",
      "  warnings.warn(\n"
     ]
    },
    {
     "name": "stdout",
     "output_type": "stream",
     "text": [
      "RFS: 1.000000 (0.000000)\n"
     ]
    },
    {
     "name": "stderr",
     "output_type": "stream",
     "text": [
      "/opt/conda/lib/python3.8/site-packages/sklearn/model_selection/_split.py:293: FutureWarning: Setting a random_state has no effect since shuffle is False. This will raise an error in 0.24. You should leave random_state to its default (None), or set shuffle=True.\n",
      "  warnings.warn(\n",
      "/opt/conda/lib/python3.8/site-packages/sklearn/neural_network/_multilayer_perceptron.py:582: ConvergenceWarning: Stochastic Optimizer: Maximum iterations (200) reached and the optimization hasn't converged yet.\n",
      "  warnings.warn(\n",
      "/opt/conda/lib/python3.8/site-packages/sklearn/neural_network/_multilayer_perceptron.py:582: ConvergenceWarning: Stochastic Optimizer: Maximum iterations (200) reached and the optimization hasn't converged yet.\n",
      "  warnings.warn(\n",
      "/opt/conda/lib/python3.8/site-packages/sklearn/neural_network/_multilayer_perceptron.py:582: ConvergenceWarning: Stochastic Optimizer: Maximum iterations (200) reached and the optimization hasn't converged yet.\n",
      "  warnings.warn(\n",
      "/opt/conda/lib/python3.8/site-packages/sklearn/model_selection/_split.py:293: FutureWarning: Setting a random_state has no effect since shuffle is False. This will raise an error in 0.24. You should leave random_state to its default (None), or set shuffle=True.\n",
      "  warnings.warn(\n"
     ]
    },
    {
     "name": "stdout",
     "output_type": "stream",
     "text": [
      "NNM: 0.456667 (0.278286)\n",
      "XGB: 1.000000 (0.000000)\n"
     ]
    }
   ],
   "source": [
    "#Se crea la lista \"models\" la cual contendra los algoritmos de machine learning para la construcción del modelo:\n",
    "#El algoritmo 'LRN' el cual es 'LogisticRegression' que representa 'Regresión Logística',\n",
    "#El algoritmo 'LDA' el cual es 'LinearDiscriminantAnalysis' que representa 'Análisis Discriminante',\n",
    "#El algoritmo 'SVM' el cual es 'SVC' que representa 'Máquina de soporte de vectores',\n",
    "#El algoritmo 'SGD' el cual es 'SGDClassifier' que representa 'Pendiente de Gradiente Estocástico',\n",
    "#El algoritmo 'KNN' el cual es 'KNeighborsClassifier' que representa 'Vecinos más Cercanos',\n",
    "#El algoritmo 'GNB' el cual es 'GaussianNB' que representa 'Clasificador Bayesiano Ingenuo',\n",
    "#El algoritmo 'DTS' el cual es 'DecisionTreeClassifier' que representa 'Árbol de Decisión',\n",
    "#El algoritmo 'RFS' el cual es 'RandomForestClassifier' que representa 'Bosques Aleatorios',\n",
    "#El algoritmo 'NNM' el cual es 'MLPClassifier' que representa 'Redes Neuronales' y\n",
    "#El algoritmo 'XGB' el cual es 'XGBClassifier' que representa 'Potenciador del Gradiente Extremo',\n",
    "models = []\n",
    "models.append(('LRN', LogisticRegression()))\n",
    "models.append(('LDA', LinearDiscriminantAnalysis()))\n",
    "models.append(('SVM', SVC()))\n",
    "models.append(('SGD', SGDClassifier()))\n",
    "models.append(('KNN', KNeighborsClassifier()))\n",
    "models.append(('GNB', GaussianNB()))\n",
    "models.append(('DTS', DecisionTreeClassifier()))\n",
    "models.append(('RFS', RandomForestClassifier()))\n",
    "models.append(('NNM', MLPClassifier()))\n",
    "models.append(('XGB', XGBClassifier()))\n",
    "\n",
    "#Se crea una lista \"result\" que almacenara los resultados de la validación cruzada\n",
    "results = []\n",
    "\n",
    "#Se crea una lista \"names\" que almacenara los nombres de los algoritmos de machine learning\n",
    "names = []\n",
    "\n",
    "#Se ejecuta el ciclo 'for' con todos los algoritmos de machine learning elegidos:\n",
    "#Repete y calcula la media aritmética de las medidas de evaluación de las diferentes particiones\n",
    "#Proceso de validación cruzada con 10 interacciones de los datos de entrenamiento\n",
    "#Se divide en 10 partes, entrena en 9, valida en 1 y repite el proceso 10 veces\n",
    "for name, model in models:\n",
    "\tkfold = KFold(n_splits=10, random_state=7)\n",
    "\tcv_results = cross_val_score(model, X_train, y_train, cv=kfold, scoring='accuracy')\n",
    "\tresults.append(cv_results)\n",
    "\tnames.append(name)\n",
    "\tmsg = \"%s: %f (%f)\" % (name, cv_results.mean(), cv_results.std())\n",
    "\tprint(msg)"
   ]
  },
  {
   "cell_type": "code",
   "execution_count": 30,
   "metadata": {},
   "outputs": [
    {
     "data": {
      "image/png": "[encoded data removed]",
      "text/plain": [
       "<Figure size 432x288 with 1 Axes>"
      ]
     },
     "metadata": {
      "needs_background": "light"
     },
     "output_type": "display_data"
    }
   ],
   "source": [
    "#Se crea el diagrama de caja y bigotes con los resultados de evaluación de los modelos para \n",
    "#Comparar la Distribución y Precisión media para cada modelo\n",
    "fig = plt.figure()\n",
    "fig.suptitle('Comparación de Algoritmos')\n",
    "fig.subplots_adjust(left=0.00, right=1.0, top=0.9, bottom=0.0)\n",
    "ax = fig.add_subplot(111)\n",
    "plt.boxplot(results)\n",
    "ax.set_xticklabels(names, rotation=0, fontsize=8)\n",
    "ax.set_xlabel('Modelos')\n",
    "ax.set_ylabel('Precisión')\n",
    "plt.show()"
   ]
  },
  {
   "cell_type": "code",
   "execution_count": 31,
   "metadata": {},
   "outputs": [
    {
     "name": "stdout",
     "output_type": "stream",
     "text": [
      "model: XGB\n"
     ]
    },
    {
     "data": {
      "text/plain": [
       "array([1., 1., 1., 1., 1., 1., 1., 1., 1., 1.])"
      ]
     },
     "execution_count": 31,
     "metadata": {},
     "output_type": "execute_result"
    }
   ],
   "source": [
    "print('model:',names[9])\n",
    "results[9]"
   ]
  },
  {
   "cell_type": "code",
   "execution_count": 32,
   "metadata": {},
   "outputs": [
    {
     "name": "stdout",
     "output_type": "stream",
     "text": [
      "model: DTS\n"
     ]
    },
    {
     "data": {
      "text/plain": [
       "array([1., 1., 1., 1., 1., 1., 1., 1., 1., 1.])"
      ]
     },
     "execution_count": 32,
     "metadata": {},
     "output_type": "execute_result"
    }
   ],
   "source": [
    "print('model:',names[6])\n",
    "results[6]"
   ]
  },
  {
   "cell_type": "code",
   "execution_count": 34,
   "metadata": {},
   "outputs": [
    {
     "data": {
      "text/plain": [
       "DecisionTreeClassifier()"
      ]
     },
     "execution_count": 34,
     "metadata": {},
     "output_type": "execute_result"
    }
   ],
   "source": [
    "#Se escoge el mejor modelo predictivo\n",
    "DTS = DecisionTreeClassifier()\n",
    "#Se entrena el modelo escogido\n",
    "DTS.fit(X_train, y_train)"
   ]
  },
  {
   "cell_type": "code",
   "execution_count": 35,
   "metadata": {},
   "outputs": [
    {
     "name": "stdout",
     "output_type": "stream",
     "text": [
      "0.9565217391304348\n",
      "[[14  1  0]\n",
      " [ 0  5  0]\n",
      " [ 0  0  3]]\n",
      "              precision    recall  f1-score   support\n",
      "\n",
      "           1       1.00      0.93      0.97        15\n",
      "           2       0.83      1.00      0.91         5\n",
      "           3       1.00      1.00      1.00         3\n",
      "\n",
      "    accuracy                           0.96        23\n",
      "   macro avg       0.94      0.98      0.96        23\n",
      "weighted avg       0.96      0.96      0.96        23\n",
      "\n"
     ]
    }
   ],
   "source": [
    "#Se realiza las predicciones con los datos del array de prueba 'X_test'\n",
    "predictionsDTS = DTS.predict(X_test)\n",
    "#Puntaje de clasificación de precisión\n",
    "print(accuracy_score(y_test, predictionsDTS))\n",
    "\n",
    "#Matriz de confusión\n",
    "print(confusion_matrix(y_test, predictionsDTS))\n",
    "\n",
    "#Reporte de clasificación\n",
    "print(classification_report(y_test, predictionsDTS))"
   ]
  },
  {
   "cell_type": "code",
   "execution_count": 36,
   "metadata": {},
   "outputs": [
    {
     "data": {
      "image/png": "[encoded data removed]",
      "text/plain": [
       "<Figure size 432x288 with 1 Axes>"
      ]
     },
     "metadata": {
      "needs_background": "light"
     },
     "output_type": "display_data"
    }
   ],
   "source": [
    "feature_names= cols_fea\n",
    "caract=X_test.shape[1]\n",
    "plt.barh(range(caract), DTS.feature_importances_)\n",
    "plt.yticks(np.arange(caract), feature_names)\n",
    "plt.xlabel(\"Importancia de las caracteristica\")\n",
    "plt.ylabel(\"Caracteristica\")\n",
    "plt.show()"
   ]
  },
  {
   "cell_type": "code",
   "execution_count": 37,
   "metadata": {},
   "outputs": [
    {
     "data": {
      "text/html": [
       "<div>\n",
       "<style scoped>\n",
       "    .dataframe tbody tr th:only-of-type {\n",
       "        vertical-align: middle;\n",
       "    }\n",
       "\n",
       "    .dataframe tbody tr th {\n",
       "        vertical-align: top;\n",
       "    }\n",
       "\n",
       "    .dataframe thead th {\n",
       "        text-align: right;\n",
       "    }\n",
       "</style>\n",
       "<table border=\"1\" class=\"dataframe\">\n",
       "  <thead>\n",
       "    <tr style=\"text-align: right;\">\n",
       "      <th></th>\n",
       "      <th>0</th>\n",
       "      <th>1</th>\n",
       "    </tr>\n",
       "  </thead>\n",
       "  <tbody>\n",
       "    <tr>\n",
       "      <th>1</th>\n",
       "      <td>insulina</td>\n",
       "      <td>0.624676</td>\n",
       "    </tr>\n",
       "    <tr>\n",
       "      <th>0</th>\n",
       "      <td>glucosa</td>\n",
       "      <td>0.375324</td>\n",
       "    </tr>\n",
       "  </tbody>\n",
       "</table>\n",
       "</div>"
      ],
      "text/plain": [
       "          0         1\n",
       "1  insulina  0.624676\n",
       "0   glucosa  0.375324"
      ]
     },
     "execution_count": 37,
     "metadata": {},
     "output_type": "execute_result"
    }
   ],
   "source": [
    "res1 = pd.DataFrame(data=[feature_names, DTS.feature_importances_])\n",
    "res1.transpose().sort_values(by=1, ascending=False)"
   ]
  },
  {
   "cell_type": "markdown",
   "metadata": {},
   "source": [
    "## Manejo de clases desbalanceadas con la librería Python ImbLearn\n",
    "No olvides instalar con:\n",
    "\n",
    "pip install -U imbalanced-learn"
   ]
  },
  {
   "cell_type": "code",
   "execution_count": 38,
   "metadata": {},
   "outputs": [],
   "source": [
    "from sklearn.metrics import confusion_matrix\n",
    "from sklearn.metrics import classification_report\n",
    "from sklearn.model_selection import train_test_split\n",
    "from sklearn.linear_model import LogisticRegression\n",
    "from sklearn.decomposition import PCA\n",
    "from sklearn.tree import DecisionTreeClassifier\n",
    "\n",
    "from pylab import rcParams\n",
    "\n",
    "from imblearn.under_sampling import NearMiss\n",
    "from imblearn.over_sampling import RandomOverSampler\n",
    "from imblearn.combine import SMOTETomek\n",
    "from imblearn.ensemble import BalancedBaggingClassifier\n",
    "\n",
    "from collections import Counter\n",
    "\n",
    "#set up graphic style in this case I am using the color scheme from xkcd.com\n",
    "rcParams['figure.figsize'] = 14, 8.7 # Golden Mean\n",
    "LABELS = [\"Normal\",\"Fraud\"]\n",
    "#col_list = [\"cerulean\",\"scarlet\"]# https://xkcd.com/color/rgb/\n",
    "#sns.set(style='white', font_scale=1.75, palette=sns.xkcd_palette(col_list))\n",
    "\n",
    "%matplotlib inline"
   ]
  },
  {
   "cell_type": "code",
   "execution_count": 39,
   "metadata": {},
   "outputs": [],
   "source": [
    "from imblearn.metrics import classification_report_imbalanced\n",
    "from sklearn.metrics import balanced_accuracy_score\n",
    "from imblearn.metrics import geometric_mean_score"
   ]
  },
  {
   "cell_type": "code",
   "execution_count": 44,
   "metadata": {},
   "outputs": [
    {
     "name": "stdout",
     "output_type": "stream",
     "text": [
      "class labels [1 2 3]\n"
     ]
    },
    {
     "data": {
      "text/plain": [
       "['glucosa', 'insulina']"
      ]
     },
     "execution_count": 44,
     "metadata": {},
     "output_type": "execute_result"
    }
   ],
   "source": [
    "class_labels = np.unique(df_2[cols_f]['clase'])\n",
    "print('class labels', class_labels) \n",
    "feature_names= cols_fea\n",
    "feature_names"
   ]
  },
  {
   "cell_type": "code",
   "execution_count": 45,
   "metadata": {},
   "outputs": [
    {
     "name": "stdout",
     "output_type": "stream",
     "text": [
      "df_5 shape: (115, 3)\n"
     ]
    },
    {
     "data": {
      "text/plain": [
       "1    66\n",
       "2    26\n",
       "3    23\n",
       "Name: clase, dtype: int64"
      ]
     },
     "execution_count": 45,
     "metadata": {},
     "output_type": "execute_result"
    }
   ],
   "source": [
    "df_5 = df_2[cols_f]\n",
    "print('df_5 shape:',df_5.shape)\n",
    "pd.value_counts(df_5['clase'], sort = True) "
   ]
  },
  {
   "cell_type": "code",
   "execution_count": 46,
   "metadata": {},
   "outputs": [
    {
     "data": {
      "image/png": "[encoded data removed]",
      "text/plain": [
       "<Figure size 432x288 with 1 Axes>"
      ]
     },
     "metadata": {
      "needs_background": "light"
     },
     "output_type": "display_data"
    }
   ],
   "source": [
    "#if you don't have an intuitive sense of how imbalanced these two classes are, let's go visual\n",
    "count_classes = pd.value_counts(df_5['clase'], sort = True)\n",
    "count_classes.plot(kind = 'bar', rot=0)\n",
    "#plt.xticks(range(2), LABELS)\n",
    "plt.title(\"Frequency by observation number\")\n",
    "plt.xlabel(\"Class\")\n",
    "plt.ylabel(\"Number of Observations\");"
   ]
  },
  {
   "cell_type": "markdown",
   "metadata": {},
   "source": [
    "## Estrategia: Subsampling en la clase mayoritaria"
   ]
  },
  {
   "cell_type": "code",
   "execution_count": 47,
   "metadata": {},
   "outputs": [],
   "source": [
    "us = NearMiss(n_neighbors=3, version=2) #ratio=0.5, , random_state=1\n"
   ]
  },
  {
   "cell_type": "code",
   "execution_count": 48,
   "metadata": {},
   "outputs": [
    {
     "name": "stdout",
     "output_type": "stream",
     "text": [
      "Distribution before resampling Counter({1: 51, 2: 21, 3: 20})\n",
      "Distribution after resampling Counter({1: 20, 2: 20, 3: 20})\n"
     ]
    }
   ],
   "source": [
    "X_train_res, y_train_res = us.fit_sample(X_train, y_train)\n",
    " \n",
    "print (\"Distribution before resampling {}\".format(Counter(y_train)))\n",
    "print (\"Distribution after resampling {}\".format(Counter(y_train_res)))"
   ]
  },
  {
   "cell_type": "code",
   "execution_count": 49,
   "metadata": {},
   "outputs": [
    {
     "data": {
      "image/png": "[encoded data removed]",
      "text/plain": [
       "<Figure size 432x288 with 1 Axes>"
      ]
     },
     "metadata": {
      "needs_background": "light"
     },
     "output_type": "display_data"
    }
   ],
   "source": [
    "#if you don't have an intuitive sense of how imbalanced these two classes are, let's go visual\n",
    "count_classes = pd.value_counts(y_train_res, sort = True)\n",
    "count_classes.plot(kind = 'bar', rot=0)\n",
    "#plt.xticks(range(2), LABELS)\n",
    "plt.title(\"Frequency by observation number\")\n",
    "plt.xlabel(\"Class\")\n",
    "plt.ylabel(\"Number of Observations\");"
   ]
  },
  {
   "cell_type": "code",
   "execution_count": 50,
   "metadata": {},
   "outputs": [
    {
     "name": "stdout",
     "output_type": "stream",
     "text": [
      "0.9565217391304348\n",
      "[[14  1  0]\n",
      " [ 0  5  0]\n",
      " [ 0  0  3]]\n",
      "              precision    recall  f1-score   support\n",
      "\n",
      "           1       1.00      0.93      0.97        15\n",
      "           2       0.83      1.00      0.91         5\n",
      "           3       1.00      1.00      1.00         3\n",
      "\n",
      "    accuracy                           0.96        23\n",
      "   macro avg       0.94      0.98      0.96        23\n",
      "weighted avg       0.96      0.96      0.96        23\n",
      "\n"
     ]
    }
   ],
   "source": [
    "#Se re-entrena el modelo escogido\n",
    "DTS2 = DecisionTreeClassifier()\n",
    "DTS2.fit(X_train_res, y_train_res)\n",
    "#Se realiza las predicciones con los datos del array de prueba 'X_test'\n",
    "predictionsDTS2 = DTS2.predict(X_test)\n",
    "#Puntaje de clasificación de precisión\n",
    "print(accuracy_score(y_test, predictionsDTS2))\n",
    "\n",
    "#Matriz de confusión\n",
    "print(confusion_matrix(y_test, predictionsDTS2))\n",
    "\n",
    "#Reporte de clasificación\n",
    "print(classification_report(y_test, predictionsDTS2))"
   ]
  },
  {
   "cell_type": "markdown",
   "metadata": {},
   "source": [
    "## Estrategia: Oversampling de la clase minoritaria"
   ]
  },
  {
   "cell_type": "code",
   "execution_count": 51,
   "metadata": {},
   "outputs": [
    {
     "name": "stdout",
     "output_type": "stream",
     "text": [
      "Distribution before resampling Counter({1: 51, 2: 21, 3: 20})\n",
      "Distribution labels after resampling Counter({2: 51, 3: 51, 1: 51})\n"
     ]
    }
   ],
   "source": [
    "os =  RandomOverSampler() #ratio=0.5\n",
    "X_train_res, y_train_res = os.fit_sample(X_train, y_train)\n",
    " \n",
    "print (\"Distribution before resampling {}\".format(Counter(y_train)))\n",
    "print (\"Distribution labels after resampling {}\".format(Counter(y_train_res)))"
   ]
  },
  {
   "cell_type": "code",
   "execution_count": 52,
   "metadata": {},
   "outputs": [
    {
     "name": "stdout",
     "output_type": "stream",
     "text": [
      "0.9565217391304348\n",
      "[[14  1  0]\n",
      " [ 0  5  0]\n",
      " [ 0  0  3]]\n",
      "              precision    recall  f1-score   support\n",
      "\n",
      "           1       1.00      0.93      0.97        15\n",
      "           2       0.83      1.00      0.91         5\n",
      "           3       1.00      1.00      1.00         3\n",
      "\n",
      "    accuracy                           0.96        23\n",
      "   macro avg       0.94      0.98      0.96        23\n",
      "weighted avg       0.96      0.96      0.96        23\n",
      "\n"
     ]
    }
   ],
   "source": [
    "#Se re-entrena el modelo escogido\n",
    "DTS2 = DecisionTreeClassifier()\n",
    "DTS2.fit(X_train_res, y_train_res)\n",
    "#Se realiza las predicciones con los datos del array de prueba 'X_test'\n",
    "predictionsDTS2 = DTS2.predict(X_test)\n",
    "#Puntaje de clasificación de precisión\n",
    "print(accuracy_score(y_test, predictionsDTS2))\n",
    "\n",
    "#Matriz de confusión\n",
    "print(confusion_matrix(y_test, predictionsDTS2))\n",
    "\n",
    "#Reporte de clasificación\n",
    "print(classification_report(y_test, predictionsDTS2))"
   ]
  },
  {
   "cell_type": "markdown",
   "metadata": {},
   "source": [
    "## Estrategia: Combinamos resampling con Smote-Tomek"
   ]
  },
  {
   "cell_type": "markdown",
   "metadata": {},
   "source": [
    "Ahora probaremos una técnica muy usada que consiste en aplicar en simultáneo un algoritmo de subsampling y otro de oversampling a la vez al dataset. En este caso usaremos SMOTE para oversampling: busca puntos vecinos cercanos y agrega puntos “en linea recta” entre ellos. Y usaremos Tomek para undersampling que quita los de distinta clase que sean nearest neighbor y deja ver mejor el decisión boundary (la zona limítrofe de nuestras clases)."
   ]
  },
  {
   "cell_type": "code",
   "execution_count": 53,
   "metadata": {},
   "outputs": [
    {
     "name": "stdout",
     "output_type": "stream",
     "text": [
      "Distribution before resampling Counter({1: 51, 2: 21, 3: 20})\n",
      "Distribution after resampling Counter({2: 51, 3: 51, 1: 51})\n"
     ]
    }
   ],
   "source": [
    "os_us = SMOTETomek()#ratio=0.5\n",
    "X_train_res, y_train_res = os_us.fit_sample(X_train, y_train)\n",
    " \n",
    "print (\"Distribution before resampling {}\".format(Counter(y_train)))\n",
    "print (\"Distribution after resampling {}\".format(Counter(y_train_res)))"
   ]
  },
  {
   "cell_type": "code",
   "execution_count": 54,
   "metadata": {},
   "outputs": [
    {
     "name": "stdout",
     "output_type": "stream",
     "text": [
      "0.9565217391304348\n",
      "[[14  1  0]\n",
      " [ 0  5  0]\n",
      " [ 0  0  3]]\n",
      "              precision    recall  f1-score   support\n",
      "\n",
      "           1       1.00      0.93      0.97        15\n",
      "           2       0.83      1.00      0.91         5\n",
      "           3       1.00      1.00      1.00         3\n",
      "\n",
      "    accuracy                           0.96        23\n",
      "   macro avg       0.94      0.98      0.96        23\n",
      "weighted avg       0.96      0.96      0.96        23\n",
      "\n"
     ]
    }
   ],
   "source": [
    "#Se re-entrena el modelo escogido\n",
    "DTS2 = DecisionTreeClassifier()\n",
    "DTS2.fit(X_train_res, y_train_res)\n",
    "#Se realiza las predicciones con los datos del array de prueba 'X_test'\n",
    "predictionsDTS2 = DTS2.predict(X_test)\n",
    "#Puntaje de clasificación de precisión\n",
    "print(accuracy_score(y_test, predictionsDTS2))\n",
    "\n",
    "#Matriz de confusión\n",
    "print(confusion_matrix(y_test, predictionsDTS2))\n",
    "\n",
    "#Reporte de clasificación\n",
    "print(classification_report(y_test, predictionsDTS2))"
   ]
  },
  {
   "cell_type": "markdown",
   "metadata": {},
   "source": [
    "## Estrategia: Ensamble de Modelos con Balanceo"
   ]
  },
  {
   "cell_type": "markdown",
   "metadata": {},
   "source": [
    "Para esta estrategia usaremos un Clasificador de Ensamble que utiliza Bagging y el modelo será un DecisionTree. Veamos como se comporta:"
   ]
  },
  {
   "cell_type": "code",
   "execution_count": 55,
   "metadata": {},
   "outputs": [],
   "source": [
    "bbc = BalancedBaggingClassifier(base_estimator=DecisionTreeClassifier(),\n",
    "                                sampling_strategy='auto',\n",
    "                                replacement=False,\n",
    "                                random_state=0)\n",
    " \n",
    "#Train the classifier.\n",
    "bbc.fit(X_train, y_train)\n",
    "pred_y = bbc.predict(X_test)"
   ]
  },
  {
   "cell_type": "code",
   "execution_count": 56,
   "metadata": {},
   "outputs": [
    {
     "name": "stdout",
     "output_type": "stream",
     "text": [
      "0.9565217391304348\n",
      "[[14  1  0]\n",
      " [ 0  5  0]\n",
      " [ 0  0  3]]\n",
      "              precision    recall  f1-score   support\n",
      "\n",
      "           1       1.00      0.93      0.97        15\n",
      "           2       0.83      1.00      0.91         5\n",
      "           3       1.00      1.00      1.00         3\n",
      "\n",
      "    accuracy                           0.96        23\n",
      "   macro avg       0.94      0.98      0.96        23\n",
      "weighted avg       0.96      0.96      0.96        23\n",
      "\n"
     ]
    }
   ],
   "source": [
    "#Puntaje de clasificación de precisión\n",
    "print(accuracy_score(y_test, pred_y))\n",
    "\n",
    "#Matriz de confusión\n",
    "print(confusion_matrix(y_test, pred_y))\n",
    "\n",
    "#Reporte de clasificación\n",
    "print(classification_report(y_test, pred_y))"
   ]
  },
  {
   "cell_type": "markdown",
   "metadata": {},
   "source": [
    "## Resultados de las Estrategias\n"
   ]
  },
  {
   "cell_type": "markdown",
   "metadata": {},
   "source": [
    "Estrategia ganadora es: Todas"
   ]
  },
  {
   "cell_type": "code",
   "execution_count": 57,
   "metadata": {},
   "outputs": [
    {
     "name": "stdout",
     "output_type": "stream",
     "text": [
      "Distribution before resampling Counter({1: 51, 2: 21, 3: 20})\n",
      "Distribution labels after resampling Counter({2: 51, 3: 51, 1: 51})\n"
     ]
    }
   ],
   "source": [
    "#Estrategia ganadora es: Oversampling de la clase minoritaria\n",
    "os =  RandomOverSampler() #ratio=0.5\n",
    "X_train_res, y_train_res = os.fit_sample(X_train, y_train)\n",
    " \n",
    "print (\"Distribution before resampling {}\".format(Counter(y_train)))\n",
    "print (\"Distribution labels after resampling {}\".format(Counter(y_train_res)))"
   ]
  },
  {
   "cell_type": "code",
   "execution_count": 58,
   "metadata": {},
   "outputs": [
    {
     "name": "stdout",
     "output_type": "stream",
     "text": [
      "0.9565217391304348\n",
      "[[14  1  0]\n",
      " [ 0  5  0]\n",
      " [ 0  0  3]]\n",
      "              precision    recall  f1-score   support\n",
      "\n",
      "           1       1.00      0.93      0.97        15\n",
      "           2       0.83      1.00      0.91         5\n",
      "           3       1.00      1.00      1.00         3\n",
      "\n",
      "    accuracy                           0.96        23\n",
      "   macro avg       0.94      0.98      0.96        23\n",
      "weighted avg       0.96      0.96      0.96        23\n",
      "\n"
     ]
    }
   ],
   "source": [
    "#Se re-entrena el modelo escogido\n",
    "DTS2 = DecisionTreeClassifier()\n",
    "DTS2.fit(X_train_res, y_train_res)\n",
    "#Se realiza las predicciones con los datos del array de prueba 'X_test'\n",
    "predictionsDTS2 = DTS2.predict(X_test)\n",
    "#Puntaje de clasificación de precisión\n",
    "print(accuracy_score(y_test, predictionsDTS2))\n",
    "\n",
    "#Matriz de confusión\n",
    "print(confusion_matrix(y_test, predictionsDTS2))\n",
    "\n",
    "#Reporte de clasificación\n",
    "print(classification_report(y_test, predictionsDTS2))"
   ]
  },
  {
   "cell_type": "code",
   "execution_count": 59,
   "metadata": {},
   "outputs": [
    {
     "data": {
      "text/plain": [
       "['DTS.joblib']"
      ]
     },
     "execution_count": 59,
     "metadata": {},
     "output_type": "execute_result"
    }
   ],
   "source": [
    "from joblib import dump\n",
    "dump(DTS2, 'DTS.joblib') "
   ]
  },
  {
   "cell_type": "code",
   "execution_count": 60,
   "metadata": {},
   "outputs": [],
   "source": [
    "from joblib import load\n",
    "DTSf = load('DTS.joblib') "
   ]
  },
  {
   "cell_type": "code",
   "execution_count": 63,
   "metadata": {},
   "outputs": [
    {
     "data": {
      "text/plain": [
       "array([[  87,  306],\n",
       "       [ 112,  568],\n",
       "       [  90,  356],\n",
       "       [ 110,  426],\n",
       "       [  97,  379],\n",
       "       [ 102,  599],\n",
       "       [ 103,  533],\n",
       "       [  88,  423],\n",
       "       [ 213, 1001],\n",
       "       [ 112,  414],\n",
       "       [  85,  373],\n",
       "       [  90,  356],\n",
       "       [ 125,  714],\n",
       "       [  98,  365],\n",
       "       [  93,  306],\n",
       "       [ 330, 1520],\n",
       "       [  86,  325],\n",
       "       [ 101,  469],\n",
       "       [  93,  376],\n",
       "       [  95,  391],\n",
       "       [  85,  296],\n",
       "       [  80,  393],\n",
       "       [  70,  360]])"
      ]
     },
     "execution_count": 63,
     "metadata": {},
     "output_type": "execute_result"
    }
   ],
   "source": [
    "X_test"
   ]
  },
  {
   "cell_type": "code",
   "execution_count": 61,
   "metadata": {},
   "outputs": [
    {
     "data": {
      "text/plain": [
       "array([1, 2, 1, 1, 1, 2, 2, 2, 3, 1, 1, 1, 3, 1, 1, 3, 1, 2, 1, 1, 1, 1,\n",
       "       1])"
      ]
     },
     "execution_count": 61,
     "metadata": {},
     "output_type": "execute_result"
    }
   ],
   "source": [
    "y_test"
   ]
  },
  {
   "cell_type": "code",
   "execution_count": 62,
   "metadata": {},
   "outputs": [
    {
     "data": {
      "text/plain": [
       "array([1, 2, 1, 2, 1, 2, 2, 2, 3, 1, 1, 1, 3, 1, 1, 3, 1, 2, 1, 1, 1, 1,\n",
       "       1])"
      ]
     },
     "execution_count": 62,
     "metadata": {},
     "output_type": "execute_result"
    }
   ],
   "source": [
    "#Se realiza las predicciones con los datos del array de prueba 'X_test'\n",
    "predictions2 = DTSf.predict(X_test)\n",
    "predictions2"
   ]
  },
  {
   "cell_type": "code",
   "execution_count": 70,
   "metadata": {},
   "outputs": [
    {
     "data": {
      "text/plain": [
       "array([3])"
      ]
     },
     "execution_count": 70,
     "metadata": {},
     "output_type": "execute_result"
    }
   ],
   "source": [
    "pred_y1 = DTSf.predict([[  213,  850],]) # glucosa, insulina\n",
    "pred_y1"
   ]
  },
  {
   "cell_type": "code",
   "execution_count": 64,
   "metadata": {},
   "outputs": [
    {
     "name": "stdout",
     "output_type": "stream",
     "text": [
      "0.9565217391304348\n",
      "[[14  1  0]\n",
      " [ 0  5  0]\n",
      " [ 0  0  3]]\n",
      "              precision    recall  f1-score   support\n",
      "\n",
      "           1       1.00      0.93      0.97        15\n",
      "           2       0.83      1.00      0.91         5\n",
      "           3       1.00      1.00      1.00         3\n",
      "\n",
      "    accuracy                           0.96        23\n",
      "   macro avg       0.94      0.98      0.96        23\n",
      "weighted avg       0.96      0.96      0.96        23\n",
      "\n"
     ]
    }
   ],
   "source": [
    "#Puntaje de clasificación de precisión\n",
    "print(accuracy_score(y_test, predictions2))\n",
    "\n",
    "#Matriz de confusión\n",
    "print(confusion_matrix(y_test, predictions2))\n",
    "\n",
    "#Reporte de clasificación\n",
    "print(classification_report(y_test, predictions2))"
   ]
  },
  {
   "cell_type": "code",
   "execution_count": 71,
   "metadata": {},
   "outputs": [
    {
     "name": "stderr",
     "output_type": "stream",
     "text": [
      "/opt/conda/lib/python3.8/site-packages/sklearn/model_selection/_split.py:293: FutureWarning: Setting a random_state has no effect since shuffle is False. This will raise an error in 0.24. You should leave random_state to its default (None), or set shuffle=True.\n",
      "  warnings.warn(\n"
     ]
    },
    {
     "data": {
      "text/plain": [
       "array([1., 1., 1., 1., 1., 1., 1., 1., 1., 1.])"
      ]
     },
     "execution_count": 71,
     "metadata": {},
     "output_type": "execute_result"
    }
   ],
   "source": [
    "kfold = KFold(n_splits=10, random_state=7)\n",
    "cv_results = cross_val_score(DTSf, X_train_res, y_train_res, cv=kfold, scoring='accuracy')\n",
    "cv_results"
   ]
  },
  {
   "cell_type": "code",
   "execution_count": 72,
   "metadata": {},
   "outputs": [
    {
     "data": {
      "image/png": "[encoded data removed]",
      "text/plain": [
       "<Figure size 432x288 with 1 Axes>"
      ]
     },
     "metadata": {
      "needs_background": "light"
     },
     "output_type": "display_data"
    }
   ],
   "source": [
    "#Se crea el diagrama de caja y bigotes con los resultados de evaluación de\n",
    "fig = plt.figure()\n",
    "fig.suptitle('Comparación de Algoritmos')\n",
    "fig.subplots_adjust(left=0.00, right=1.0, top=0.9, bottom=0.0)\n",
    "ax = fig.add_subplot(111)\n",
    "plt.boxplot(cv_results)\n",
    "#ax.set_xticklabels('DTS', rotation=0, fontsize=8)\n",
    "ax.set_xlabel('Modelo DTS')\n",
    "ax.set_ylabel('Precisión')\n",
    "plt.show()"
   ]
  },
  {
   "cell_type": "markdown",
   "metadata": {},
   "source": [
    "CURVE ROC"
   ]
  },
  {
   "cell_type": "code",
   "execution_count": 74,
   "metadata": {},
   "outputs": [],
   "source": [
    "from sklearn.metrics import roc_curve\n",
    "from sklearn.metrics import roc_auc_score"
   ]
  },
  {
   "cell_type": "code",
   "execution_count": 75,
   "metadata": {},
   "outputs": [],
   "source": [
    "def PuntodeCorte(model,X_cv,y_cv):\n",
    "    probs = model.predict_proba(X_cv)\n",
    "    prob = probs[:,1]\n",
    "    prob_df = pd.DataFrame(prob)\n",
    "    threshold = 0.5\n",
    "    prob_df[\"prediction\"] = np.where(prob_df[0]>threshold, 1, 0)\n",
    "# #   prob_df.head()\n",
    "#    auc = roc_auc_score(y_cv, prob_df.prediction)\n",
    "#    print('AUC: %.2f' % auc)\n",
    "# #   fpr, tpr, thresholds = roc_curve(y_cv, prob)\n",
    "# #   plot_roc_curve(fpr, tpr)\n",
    "    return prob_df"
   ]
  },
  {
   "cell_type": "code",
   "execution_count": 87,
   "metadata": {},
   "outputs": [],
   "source": [
    "def plot_roc_curve(fpr, tpr):\n",
    "    plt.plot(fpr, tpr, color='orange', label='ROC')\n",
    "    plt.plot([0, 1], [0, 1], color='darkblue', linestyle='--')\n",
    "    plt.xlabel('False Positive Rate')\n",
    "    plt.ylabel('True Positive Rate')\n",
    "    plt.title('Receiver Operating Characteristic (ROC) Curve')\n",
    "    plt.legend()\n",
    "    plt.show()"
   ]
  },
  {
   "cell_type": "code",
   "execution_count": 77,
   "metadata": {},
   "outputs": [],
   "source": [
    "from sklearn.model_selection import StratifiedKFold\n",
    "import itertools\n",
    "def plot_confusion_matrix(cm, classes, ax,\n",
    "                          normalize=False,\n",
    "                          title='Confusion matrix',\n",
    "                          cmap=plt.cm.Blues):\n",
    "    \"\"\"\n",
    "    This function prints and plots the confusion matrix.\n",
    "    Normalization can be applied by setting `normalize=True`.\n",
    "    \"\"\"\n",
    "    print(cm)\n",
    "    print('')\n",
    "\n",
    "    ax.imshow(cm, interpolation='nearest', cmap=cmap)\n",
    "    ax.set_title(title)\n",
    "    tick_marks = np.arange(len(classes))\n",
    "    plt.xticks(tick_marks, classes, rotation=45)\n",
    "    plt.sca(ax)\n",
    "    plt.yticks(tick_marks, classes)\n",
    "\n",
    "    fmt = '.2f' if normalize else 'd'\n",
    "    thresh = cm.max() / 2.\n",
    "    for i, j in itertools.product(range(cm.shape[0]), range(cm.shape[1])):\n",
    "        ax.text(j, i, format(cm[i, j], fmt),\n",
    "                horizontalalignment=\"center\",\n",
    "                color=\"white\" if cm[i, j] > thresh else \"black\")\n",
    "\n",
    "    ax.set_ylabel('True label')\n",
    "    ax.set_xlabel('Predicted label')\n",
    "    \n",
    "skf = StratifiedKFold(n_splits=2)"
   ]
  },
  {
   "cell_type": "code",
   "execution_count": 78,
   "metadata": {},
   "outputs": [],
   "source": [
    "# Learning Curve\n",
    "from sklearn.model_selection import learning_curve,ShuffleSplit\n",
    "def plot_learning_curve(estimator, title, X, y, ylim=None, cv=None,\n",
    "                        n_jobs=None, train_sizes=np.linspace(.1, 1.0, 5)):\n",
    "    \"\"\"\n",
    "    Generate a simple plot of the test and training learning curve.\n",
    "\n",
    "    Parameters\n",
    "    ----------\n",
    "    estimator : object type that implements the \"fit\" and \"predict\" methods\n",
    "        An object of that type which is cloned for each validation.\n",
    "\n",
    "    title : string\n",
    "        Title for the chart.\n",
    "\n",
    "    X : array-like, shape (n_samples, n_features)\n",
    "        Training vector, where n_samples is the number of samples and\n",
    "        n_features is the number of features.\n",
    "\n",
    "    y : array-like, shape (n_samples) or (n_samples, n_features), optional\n",
    "        Target relative to X for classification or regression;\n",
    "        None for unsupervised learning.\n",
    "\n",
    "    ylim : tuple, shape (ymin, ymax), optional\n",
    "        Defines minimum and maximum yvalues plotted.\n",
    "\n",
    "    cv : int, cross-validation generator or an iterable, optional\n",
    "        Determines the cross-validation splitting strategy.\n",
    "        Possible inputs for cv are:\n",
    "          - None, to use the default 3-fold cross-validation,\n",
    "          - integer, to specify the number of folds.\n",
    "          - :term:`CV splitter`,\n",
    "          - An iterable yielding (train, test) splits as arrays of indices.\n",
    "\n",
    "        For integer/None inputs, if ``y`` is binary or multiclass,\n",
    "        :class:`StratifiedKFold` used. If the estimator is not a classifier\n",
    "        or if ``y`` is neither binary nor multiclass, :class:`KFold` is used.\n",
    "\n",
    "        Refer :ref:`User Guide <cross_validation>` for the various\n",
    "        cross-validators that can be used here.\n",
    "\n",
    "    n_jobs : int or None, optional (default=None)\n",
    "        Number of jobs to run in parallel.\n",
    "        ``None`` means 1 unless in a :obj:`joblib.parallel_backend` context.\n",
    "        ``-1`` means using all processors. See :term:`Glossary <n_jobs>`\n",
    "        for more details.\n",
    "\n",
    "    train_sizes : array-like, shape (n_ticks,), dtype float or int\n",
    "        Relative or absolute numbers of training examples that will be used to\n",
    "        generate the learning curve. If the dtype is float, it is regarded as a\n",
    "        fraction of the maximum size of the training set (that is determined\n",
    "        by the selected validation method), i.e. it has to be within (0, 1].\n",
    "        Otherwise it is interpreted as absolute sizes of the training sets.\n",
    "        Note that for classification the number of samples usually have to\n",
    "        be big enough to contain at least one sample from each class.\n",
    "        (default: np.linspace(0.1, 1.0, 5))\n",
    "    \"\"\"\n",
    "    plt.figure()\n",
    "    plt.title(title)\n",
    "    if ylim is not None:\n",
    "        plt.ylim(*ylim)\n",
    "    plt.xlabel(\"Training examples\")\n",
    "    plt.ylabel(\"Score\")\n",
    "    train_sizes, train_scores, test_scores = learning_curve(\n",
    "        estimator, X, y, cv=cv, n_jobs=n_jobs, train_sizes=train_sizes, scoring='balanced_accuracy')\n",
    "    train_scores_mean = np.mean(train_scores, axis=1)\n",
    "    train_scores_std = np.std(train_scores, axis=1)\n",
    "    test_scores_mean = np.mean(test_scores, axis=1)\n",
    "    test_scores_std = np.std(test_scores, axis=1)\n",
    "    plt.grid()\n",
    "\n",
    "    plt.fill_between(train_sizes, train_scores_mean - train_scores_std,\n",
    "                     train_scores_mean + train_scores_std, alpha=0.1,\n",
    "                     color=\"r\")\n",
    "    plt.fill_between(train_sizes, test_scores_mean - test_scores_std,\n",
    "                     test_scores_mean + test_scores_std, alpha=0.1, color=\"g\")\n",
    "    plt.plot(train_sizes, train_scores_mean, 'o-', color=\"r\",\n",
    "             label=\"Training score\")\n",
    "    plt.plot(train_sizes, test_scores_mean, 'o-', color=\"g\",\n",
    "             label=\"Cross-validation score\")\n",
    "\n",
    "    plt.legend(loc=\"best\")\n",
    "    return plt"
   ]
  },
  {
   "cell_type": "code",
   "execution_count": 89,
   "metadata": {},
   "outputs": [],
   "source": [
    "# Generate Curve ROC TEST\n",
    "prob_df=PuntodeCorte(DTSf,X_test,y_test)\n",
    "\n",
    "#auc = roc_auc_score(y_test, prob_df.prediction)\n",
    "\n",
    "\n"
   ]
  },
  {
   "cell_type": "markdown",
   "metadata": {},
   "source": [
    "# GridResearchCV Arboles de Desicion\n"
   ]
  },
  {
   "cell_type": "code",
   "execution_count": 90,
   "metadata": {},
   "outputs": [
    {
     "name": "stdout",
     "output_type": "stream",
     "text": [
      "Automatically created module for IPython interactive environment\n",
      "# Tuning hyper-parameters for balanced_accuracy\n",
      "\n",
      "Best parameters set found on development set:\n",
      "\n",
      "{'max_depth': 2, 'min_samples_split': 10, 'random_state': 7}\n",
      "\n",
      "Grid scores on development set:\n",
      "\n",
      "0.653 (+/-0.027) for {'max_depth': 1, 'min_samples_split': 10, 'random_state': 7}\n",
      "0.653 (+/-0.027) for {'max_depth': 1, 'min_samples_split': 30, 'random_state': 7}\n",
      "0.653 (+/-0.027) for {'max_depth': 1, 'min_samples_split': 50, 'random_state': 7}\n",
      "0.653 (+/-0.027) for {'max_depth': 1, 'min_samples_split': 70, 'random_state': 7}\n",
      "0.333 (+/-0.000) for {'max_depth': 1, 'min_samples_split': 90, 'random_state': 7}\n",
      "0.333 (+/-0.000) for {'max_depth': 1, 'min_samples_split': 110, 'random_state': 7}\n",
      "0.333 (+/-0.000) for {'max_depth': 1, 'min_samples_split': 130, 'random_state': 7}\n",
      "0.333 (+/-0.000) for {'max_depth': 1, 'min_samples_split': 150, 'random_state': 7}\n",
      "0.333 (+/-0.000) for {'max_depth': 1, 'min_samples_split': 170, 'random_state': 7}\n",
      "0.333 (+/-0.000) for {'max_depth': 1, 'min_samples_split': 190, 'random_state': 7}\n",
      "0.333 (+/-0.000) for {'max_depth': 1, 'min_samples_split': 210, 'random_state': 7}\n",
      "0.333 (+/-0.000) for {'max_depth': 1, 'min_samples_split': 230, 'random_state': 7}\n",
      "0.333 (+/-0.000) for {'max_depth': 1, 'min_samples_split': 250, 'random_state': 7}\n",
      "0.333 (+/-0.000) for {'max_depth': 1, 'min_samples_split': 270, 'random_state': 7}\n",
      "0.333 (+/-0.000) for {'max_depth': 1, 'min_samples_split': 290, 'random_state': 7}\n",
      "0.333 (+/-0.000) for {'max_depth': 1, 'min_samples_split': 310, 'random_state': 7}\n",
      "0.333 (+/-0.000) for {'max_depth': 1, 'min_samples_split': 330, 'random_state': 7}\n",
      "0.333 (+/-0.000) for {'max_depth': 1, 'min_samples_split': 350, 'random_state': 7}\n",
      "0.333 (+/-0.000) for {'max_depth': 1, 'min_samples_split': 370, 'random_state': 7}\n",
      "0.333 (+/-0.000) for {'max_depth': 1, 'min_samples_split': 390, 'random_state': 7}\n",
      "0.333 (+/-0.000) for {'max_depth': 1, 'min_samples_split': 410, 'random_state': 7}\n",
      "0.333 (+/-0.000) for {'max_depth': 1, 'min_samples_split': 430, 'random_state': 7}\n",
      "0.333 (+/-0.000) for {'max_depth': 1, 'min_samples_split': 450, 'random_state': 7}\n",
      "0.333 (+/-0.000) for {'max_depth': 1, 'min_samples_split': 470, 'random_state': 7}\n",
      "0.333 (+/-0.000) for {'max_depth': 1, 'min_samples_split': 490, 'random_state': 7}\n",
      "0.987 (+/-0.027) for {'max_depth': 2, 'min_samples_split': 10, 'random_state': 7}\n",
      "0.987 (+/-0.027) for {'max_depth': 2, 'min_samples_split': 30, 'random_state': 7}\n",
      "0.987 (+/-0.027) for {'max_depth': 2, 'min_samples_split': 50, 'random_state': 7}\n",
      "0.653 (+/-0.027) for {'max_depth': 2, 'min_samples_split': 70, 'random_state': 7}\n",
      "0.333 (+/-0.000) for {'max_depth': 2, 'min_samples_split': 90, 'random_state': 7}\n",
      "0.333 (+/-0.000) for {'max_depth': 2, 'min_samples_split': 110, 'random_state': 7}\n",
      "0.333 (+/-0.000) for {'max_depth': 2, 'min_samples_split': 130, 'random_state': 7}\n",
      "0.333 (+/-0.000) for {'max_depth': 2, 'min_samples_split': 150, 'random_state': 7}\n",
      "0.333 (+/-0.000) for {'max_depth': 2, 'min_samples_split': 170, 'random_state': 7}\n",
      "0.333 (+/-0.000) for {'max_depth': 2, 'min_samples_split': 190, 'random_state': 7}\n",
      "0.333 (+/-0.000) for {'max_depth': 2, 'min_samples_split': 210, 'random_state': 7}\n",
      "0.333 (+/-0.000) for {'max_depth': 2, 'min_samples_split': 230, 'random_state': 7}\n",
      "0.333 (+/-0.000) for {'max_depth': 2, 'min_samples_split': 250, 'random_state': 7}\n",
      "0.333 (+/-0.000) for {'max_depth': 2, 'min_samples_split': 270, 'random_state': 7}\n",
      "0.333 (+/-0.000) for {'max_depth': 2, 'min_samples_split': 290, 'random_state': 7}\n",
      "0.333 (+/-0.000) for {'max_depth': 2, 'min_samples_split': 310, 'random_state': 7}\n",
      "0.333 (+/-0.000) for {'max_depth': 2, 'min_samples_split': 330, 'random_state': 7}\n",
      "0.333 (+/-0.000) for {'max_depth': 2, 'min_samples_split': 350, 'random_state': 7}\n",
      "0.333 (+/-0.000) for {'max_depth': 2, 'min_samples_split': 370, 'random_state': 7}\n",
      "0.333 (+/-0.000) for {'max_depth': 2, 'min_samples_split': 390, 'random_state': 7}\n",
      "0.333 (+/-0.000) for {'max_depth': 2, 'min_samples_split': 410, 'random_state': 7}\n",
      "0.333 (+/-0.000) for {'max_depth': 2, 'min_samples_split': 430, 'random_state': 7}\n",
      "0.333 (+/-0.000) for {'max_depth': 2, 'min_samples_split': 450, 'random_state': 7}\n",
      "0.333 (+/-0.000) for {'max_depth': 2, 'min_samples_split': 470, 'random_state': 7}\n",
      "0.333 (+/-0.000) for {'max_depth': 2, 'min_samples_split': 490, 'random_state': 7}\n",
      "0.987 (+/-0.027) for {'max_depth': 3, 'min_samples_split': 10, 'random_state': 7}\n",
      "0.987 (+/-0.027) for {'max_depth': 3, 'min_samples_split': 30, 'random_state': 7}\n",
      "0.987 (+/-0.027) for {'max_depth': 3, 'min_samples_split': 50, 'random_state': 7}\n",
      "0.653 (+/-0.027) for {'max_depth': 3, 'min_samples_split': 70, 'random_state': 7}\n",
      "0.333 (+/-0.000) for {'max_depth': 3, 'min_samples_split': 90, 'random_state': 7}\n",
      "0.333 (+/-0.000) for {'max_depth': 3, 'min_samples_split': 110, 'random_state': 7}\n",
      "0.333 (+/-0.000) for {'max_depth': 3, 'min_samples_split': 130, 'random_state': 7}\n",
      "0.333 (+/-0.000) for {'max_depth': 3, 'min_samples_split': 150, 'random_state': 7}\n",
      "0.333 (+/-0.000) for {'max_depth': 3, 'min_samples_split': 170, 'random_state': 7}\n",
      "0.333 (+/-0.000) for {'max_depth': 3, 'min_samples_split': 190, 'random_state': 7}\n",
      "0.333 (+/-0.000) for {'max_depth': 3, 'min_samples_split': 210, 'random_state': 7}\n",
      "0.333 (+/-0.000) for {'max_depth': 3, 'min_samples_split': 230, 'random_state': 7}\n",
      "0.333 (+/-0.000) for {'max_depth': 3, 'min_samples_split': 250, 'random_state': 7}\n",
      "0.333 (+/-0.000) for {'max_depth': 3, 'min_samples_split': 270, 'random_state': 7}\n",
      "0.333 (+/-0.000) for {'max_depth': 3, 'min_samples_split': 290, 'random_state': 7}\n",
      "0.333 (+/-0.000) for {'max_depth': 3, 'min_samples_split': 310, 'random_state': 7}\n",
      "0.333 (+/-0.000) for {'max_depth': 3, 'min_samples_split': 330, 'random_state': 7}\n",
      "0.333 (+/-0.000) for {'max_depth': 3, 'min_samples_split': 350, 'random_state': 7}\n",
      "0.333 (+/-0.000) for {'max_depth': 3, 'min_samples_split': 370, 'random_state': 7}\n",
      "0.333 (+/-0.000) for {'max_depth': 3, 'min_samples_split': 390, 'random_state': 7}\n",
      "0.333 (+/-0.000) for {'max_depth': 3, 'min_samples_split': 410, 'random_state': 7}\n",
      "0.333 (+/-0.000) for {'max_depth': 3, 'min_samples_split': 430, 'random_state': 7}\n",
      "0.333 (+/-0.000) for {'max_depth': 3, 'min_samples_split': 450, 'random_state': 7}\n",
      "0.333 (+/-0.000) for {'max_depth': 3, 'min_samples_split': 470, 'random_state': 7}\n",
      "0.333 (+/-0.000) for {'max_depth': 3, 'min_samples_split': 490, 'random_state': 7}\n",
      "0.987 (+/-0.027) for {'max_depth': 4, 'min_samples_split': 10, 'random_state': 7}\n",
      "0.987 (+/-0.027) for {'max_depth': 4, 'min_samples_split': 30, 'random_state': 7}\n",
      "0.987 (+/-0.027) for {'max_depth': 4, 'min_samples_split': 50, 'random_state': 7}\n",
      "0.653 (+/-0.027) for {'max_depth': 4, 'min_samples_split': 70, 'random_state': 7}\n",
      "0.333 (+/-0.000) for {'max_depth': 4, 'min_samples_split': 90, 'random_state': 7}\n",
      "0.333 (+/-0.000) for {'max_depth': 4, 'min_samples_split': 110, 'random_state': 7}\n",
      "0.333 (+/-0.000) for {'max_depth': 4, 'min_samples_split': 130, 'random_state': 7}\n",
      "0.333 (+/-0.000) for {'max_depth': 4, 'min_samples_split': 150, 'random_state': 7}\n",
      "0.333 (+/-0.000) for {'max_depth': 4, 'min_samples_split': 170, 'random_state': 7}\n",
      "0.333 (+/-0.000) for {'max_depth': 4, 'min_samples_split': 190, 'random_state': 7}\n",
      "0.333 (+/-0.000) for {'max_depth': 4, 'min_samples_split': 210, 'random_state': 7}\n",
      "0.333 (+/-0.000) for {'max_depth': 4, 'min_samples_split': 230, 'random_state': 7}\n",
      "0.333 (+/-0.000) for {'max_depth': 4, 'min_samples_split': 250, 'random_state': 7}\n",
      "0.333 (+/-0.000) for {'max_depth': 4, 'min_samples_split': 270, 'random_state': 7}\n",
      "0.333 (+/-0.000) for {'max_depth': 4, 'min_samples_split': 290, 'random_state': 7}\n",
      "0.333 (+/-0.000) for {'max_depth': 4, 'min_samples_split': 310, 'random_state': 7}\n",
      "0.333 (+/-0.000) for {'max_depth': 4, 'min_samples_split': 330, 'random_state': 7}\n",
      "0.333 (+/-0.000) for {'max_depth': 4, 'min_samples_split': 350, 'random_state': 7}\n",
      "0.333 (+/-0.000) for {'max_depth': 4, 'min_samples_split': 370, 'random_state': 7}\n",
      "0.333 (+/-0.000) for {'max_depth': 4, 'min_samples_split': 390, 'random_state': 7}\n",
      "0.333 (+/-0.000) for {'max_depth': 4, 'min_samples_split': 410, 'random_state': 7}\n",
      "0.333 (+/-0.000) for {'max_depth': 4, 'min_samples_split': 430, 'random_state': 7}\n",
      "0.333 (+/-0.000) for {'max_depth': 4, 'min_samples_split': 450, 'random_state': 7}\n",
      "0.333 (+/-0.000) for {'max_depth': 4, 'min_samples_split': 470, 'random_state': 7}\n",
      "0.333 (+/-0.000) for {'max_depth': 4, 'min_samples_split': 490, 'random_state': 7}\n",
      "0.987 (+/-0.027) for {'max_depth': 5, 'min_samples_split': 10, 'random_state': 7}\n",
      "0.987 (+/-0.027) for {'max_depth': 5, 'min_samples_split': 30, 'random_state': 7}\n",
      "0.987 (+/-0.027) for {'max_depth': 5, 'min_samples_split': 50, 'random_state': 7}\n",
      "0.653 (+/-0.027) for {'max_depth': 5, 'min_samples_split': 70, 'random_state': 7}\n",
      "0.333 (+/-0.000) for {'max_depth': 5, 'min_samples_split': 90, 'random_state': 7}\n",
      "0.333 (+/-0.000) for {'max_depth': 5, 'min_samples_split': 110, 'random_state': 7}\n",
      "0.333 (+/-0.000) for {'max_depth': 5, 'min_samples_split': 130, 'random_state': 7}\n",
      "0.333 (+/-0.000) for {'max_depth': 5, 'min_samples_split': 150, 'random_state': 7}\n",
      "0.333 (+/-0.000) for {'max_depth': 5, 'min_samples_split': 170, 'random_state': 7}\n",
      "0.333 (+/-0.000) for {'max_depth': 5, 'min_samples_split': 190, 'random_state': 7}\n",
      "0.333 (+/-0.000) for {'max_depth': 5, 'min_samples_split': 210, 'random_state': 7}\n",
      "0.333 (+/-0.000) for {'max_depth': 5, 'min_samples_split': 230, 'random_state': 7}\n",
      "0.333 (+/-0.000) for {'max_depth': 5, 'min_samples_split': 250, 'random_state': 7}\n",
      "0.333 (+/-0.000) for {'max_depth': 5, 'min_samples_split': 270, 'random_state': 7}\n",
      "0.333 (+/-0.000) for {'max_depth': 5, 'min_samples_split': 290, 'random_state': 7}\n",
      "0.333 (+/-0.000) for {'max_depth': 5, 'min_samples_split': 310, 'random_state': 7}\n",
      "0.333 (+/-0.000) for {'max_depth': 5, 'min_samples_split': 330, 'random_state': 7}\n",
      "0.333 (+/-0.000) for {'max_depth': 5, 'min_samples_split': 350, 'random_state': 7}\n",
      "0.333 (+/-0.000) for {'max_depth': 5, 'min_samples_split': 370, 'random_state': 7}\n",
      "0.333 (+/-0.000) for {'max_depth': 5, 'min_samples_split': 390, 'random_state': 7}\n",
      "0.333 (+/-0.000) for {'max_depth': 5, 'min_samples_split': 410, 'random_state': 7}\n",
      "0.333 (+/-0.000) for {'max_depth': 5, 'min_samples_split': 430, 'random_state': 7}\n",
      "0.333 (+/-0.000) for {'max_depth': 5, 'min_samples_split': 450, 'random_state': 7}\n",
      "0.333 (+/-0.000) for {'max_depth': 5, 'min_samples_split': 470, 'random_state': 7}\n",
      "0.333 (+/-0.000) for {'max_depth': 5, 'min_samples_split': 490, 'random_state': 7}\n",
      "0.987 (+/-0.027) for {'max_depth': 6, 'min_samples_split': 10, 'random_state': 7}\n",
      "0.987 (+/-0.027) for {'max_depth': 6, 'min_samples_split': 30, 'random_state': 7}\n",
      "0.987 (+/-0.027) for {'max_depth': 6, 'min_samples_split': 50, 'random_state': 7}\n",
      "0.653 (+/-0.027) for {'max_depth': 6, 'min_samples_split': 70, 'random_state': 7}\n",
      "0.333 (+/-0.000) for {'max_depth': 6, 'min_samples_split': 90, 'random_state': 7}\n",
      "0.333 (+/-0.000) for {'max_depth': 6, 'min_samples_split': 110, 'random_state': 7}\n",
      "0.333 (+/-0.000) for {'max_depth': 6, 'min_samples_split': 130, 'random_state': 7}\n",
      "0.333 (+/-0.000) for {'max_depth': 6, 'min_samples_split': 150, 'random_state': 7}\n",
      "0.333 (+/-0.000) for {'max_depth': 6, 'min_samples_split': 170, 'random_state': 7}\n",
      "0.333 (+/-0.000) for {'max_depth': 6, 'min_samples_split': 190, 'random_state': 7}\n",
      "0.333 (+/-0.000) for {'max_depth': 6, 'min_samples_split': 210, 'random_state': 7}\n",
      "0.333 (+/-0.000) for {'max_depth': 6, 'min_samples_split': 230, 'random_state': 7}\n",
      "0.333 (+/-0.000) for {'max_depth': 6, 'min_samples_split': 250, 'random_state': 7}\n",
      "0.333 (+/-0.000) for {'max_depth': 6, 'min_samples_split': 270, 'random_state': 7}\n",
      "0.333 (+/-0.000) for {'max_depth': 6, 'min_samples_split': 290, 'random_state': 7}\n",
      "0.333 (+/-0.000) for {'max_depth': 6, 'min_samples_split': 310, 'random_state': 7}\n",
      "0.333 (+/-0.000) for {'max_depth': 6, 'min_samples_split': 330, 'random_state': 7}\n",
      "0.333 (+/-0.000) for {'max_depth': 6, 'min_samples_split': 350, 'random_state': 7}\n",
      "0.333 (+/-0.000) for {'max_depth': 6, 'min_samples_split': 370, 'random_state': 7}\n",
      "0.333 (+/-0.000) for {'max_depth': 6, 'min_samples_split': 390, 'random_state': 7}\n",
      "0.333 (+/-0.000) for {'max_depth': 6, 'min_samples_split': 410, 'random_state': 7}\n",
      "0.333 (+/-0.000) for {'max_depth': 6, 'min_samples_split': 430, 'random_state': 7}\n",
      "0.333 (+/-0.000) for {'max_depth': 6, 'min_samples_split': 450, 'random_state': 7}\n",
      "0.333 (+/-0.000) for {'max_depth': 6, 'min_samples_split': 470, 'random_state': 7}\n",
      "0.333 (+/-0.000) for {'max_depth': 6, 'min_samples_split': 490, 'random_state': 7}\n",
      "0.987 (+/-0.027) for {'max_depth': 7, 'min_samples_split': 10, 'random_state': 7}\n",
      "0.987 (+/-0.027) for {'max_depth': 7, 'min_samples_split': 30, 'random_state': 7}\n",
      "0.987 (+/-0.027) for {'max_depth': 7, 'min_samples_split': 50, 'random_state': 7}\n",
      "0.653 (+/-0.027) for {'max_depth': 7, 'min_samples_split': 70, 'random_state': 7}\n",
      "0.333 (+/-0.000) for {'max_depth': 7, 'min_samples_split': 90, 'random_state': 7}\n",
      "0.333 (+/-0.000) for {'max_depth': 7, 'min_samples_split': 110, 'random_state': 7}\n",
      "0.333 (+/-0.000) for {'max_depth': 7, 'min_samples_split': 130, 'random_state': 7}\n",
      "0.333 (+/-0.000) for {'max_depth': 7, 'min_samples_split': 150, 'random_state': 7}\n",
      "0.333 (+/-0.000) for {'max_depth': 7, 'min_samples_split': 170, 'random_state': 7}\n",
      "0.333 (+/-0.000) for {'max_depth': 7, 'min_samples_split': 190, 'random_state': 7}\n",
      "0.333 (+/-0.000) for {'max_depth': 7, 'min_samples_split': 210, 'random_state': 7}\n",
      "0.333 (+/-0.000) for {'max_depth': 7, 'min_samples_split': 230, 'random_state': 7}\n",
      "0.333 (+/-0.000) for {'max_depth': 7, 'min_samples_split': 250, 'random_state': 7}\n",
      "0.333 (+/-0.000) for {'max_depth': 7, 'min_samples_split': 270, 'random_state': 7}\n",
      "0.333 (+/-0.000) for {'max_depth': 7, 'min_samples_split': 290, 'random_state': 7}\n",
      "0.333 (+/-0.000) for {'max_depth': 7, 'min_samples_split': 310, 'random_state': 7}\n",
      "0.333 (+/-0.000) for {'max_depth': 7, 'min_samples_split': 330, 'random_state': 7}\n",
      "0.333 (+/-0.000) for {'max_depth': 7, 'min_samples_split': 350, 'random_state': 7}\n",
      "0.333 (+/-0.000) for {'max_depth': 7, 'min_samples_split': 370, 'random_state': 7}\n",
      "0.333 (+/-0.000) for {'max_depth': 7, 'min_samples_split': 390, 'random_state': 7}\n",
      "0.333 (+/-0.000) for {'max_depth': 7, 'min_samples_split': 410, 'random_state': 7}\n",
      "0.333 (+/-0.000) for {'max_depth': 7, 'min_samples_split': 430, 'random_state': 7}\n",
      "0.333 (+/-0.000) for {'max_depth': 7, 'min_samples_split': 450, 'random_state': 7}\n",
      "0.333 (+/-0.000) for {'max_depth': 7, 'min_samples_split': 470, 'random_state': 7}\n",
      "0.333 (+/-0.000) for {'max_depth': 7, 'min_samples_split': 490, 'random_state': 7}\n",
      "0.987 (+/-0.027) for {'max_depth': 8, 'min_samples_split': 10, 'random_state': 7}\n",
      "0.987 (+/-0.027) for {'max_depth': 8, 'min_samples_split': 30, 'random_state': 7}\n",
      "0.987 (+/-0.027) for {'max_depth': 8, 'min_samples_split': 50, 'random_state': 7}\n",
      "0.653 (+/-0.027) for {'max_depth': 8, 'min_samples_split': 70, 'random_state': 7}\n",
      "0.333 (+/-0.000) for {'max_depth': 8, 'min_samples_split': 90, 'random_state': 7}\n",
      "0.333 (+/-0.000) for {'max_depth': 8, 'min_samples_split': 110, 'random_state': 7}\n",
      "0.333 (+/-0.000) for {'max_depth': 8, 'min_samples_split': 130, 'random_state': 7}\n",
      "0.333 (+/-0.000) for {'max_depth': 8, 'min_samples_split': 150, 'random_state': 7}\n",
      "0.333 (+/-0.000) for {'max_depth': 8, 'min_samples_split': 170, 'random_state': 7}\n",
      "0.333 (+/-0.000) for {'max_depth': 8, 'min_samples_split': 190, 'random_state': 7}\n",
      "0.333 (+/-0.000) for {'max_depth': 8, 'min_samples_split': 210, 'random_state': 7}\n",
      "0.333 (+/-0.000) for {'max_depth': 8, 'min_samples_split': 230, 'random_state': 7}\n",
      "0.333 (+/-0.000) for {'max_depth': 8, 'min_samples_split': 250, 'random_state': 7}\n",
      "0.333 (+/-0.000) for {'max_depth': 8, 'min_samples_split': 270, 'random_state': 7}\n",
      "0.333 (+/-0.000) for {'max_depth': 8, 'min_samples_split': 290, 'random_state': 7}\n",
      "0.333 (+/-0.000) for {'max_depth': 8, 'min_samples_split': 310, 'random_state': 7}\n",
      "0.333 (+/-0.000) for {'max_depth': 8, 'min_samples_split': 330, 'random_state': 7}\n",
      "0.333 (+/-0.000) for {'max_depth': 8, 'min_samples_split': 350, 'random_state': 7}\n",
      "0.333 (+/-0.000) for {'max_depth': 8, 'min_samples_split': 370, 'random_state': 7}\n",
      "0.333 (+/-0.000) for {'max_depth': 8, 'min_samples_split': 390, 'random_state': 7}\n",
      "0.333 (+/-0.000) for {'max_depth': 8, 'min_samples_split': 410, 'random_state': 7}\n",
      "0.333 (+/-0.000) for {'max_depth': 8, 'min_samples_split': 430, 'random_state': 7}\n",
      "0.333 (+/-0.000) for {'max_depth': 8, 'min_samples_split': 450, 'random_state': 7}\n",
      "0.333 (+/-0.000) for {'max_depth': 8, 'min_samples_split': 470, 'random_state': 7}\n",
      "0.333 (+/-0.000) for {'max_depth': 8, 'min_samples_split': 490, 'random_state': 7}\n",
      "0.987 (+/-0.027) for {'max_depth': 9, 'min_samples_split': 10, 'random_state': 7}\n",
      "0.987 (+/-0.027) for {'max_depth': 9, 'min_samples_split': 30, 'random_state': 7}\n",
      "0.987 (+/-0.027) for {'max_depth': 9, 'min_samples_split': 50, 'random_state': 7}\n",
      "0.653 (+/-0.027) for {'max_depth': 9, 'min_samples_split': 70, 'random_state': 7}\n",
      "0.333 (+/-0.000) for {'max_depth': 9, 'min_samples_split': 90, 'random_state': 7}\n",
      "0.333 (+/-0.000) for {'max_depth': 9, 'min_samples_split': 110, 'random_state': 7}\n",
      "0.333 (+/-0.000) for {'max_depth': 9, 'min_samples_split': 130, 'random_state': 7}\n",
      "0.333 (+/-0.000) for {'max_depth': 9, 'min_samples_split': 150, 'random_state': 7}\n",
      "0.333 (+/-0.000) for {'max_depth': 9, 'min_samples_split': 170, 'random_state': 7}\n",
      "0.333 (+/-0.000) for {'max_depth': 9, 'min_samples_split': 190, 'random_state': 7}\n",
      "0.333 (+/-0.000) for {'max_depth': 9, 'min_samples_split': 210, 'random_state': 7}\n",
      "0.333 (+/-0.000) for {'max_depth': 9, 'min_samples_split': 230, 'random_state': 7}\n",
      "0.333 (+/-0.000) for {'max_depth': 9, 'min_samples_split': 250, 'random_state': 7}\n",
      "0.333 (+/-0.000) for {'max_depth': 9, 'min_samples_split': 270, 'random_state': 7}\n",
      "0.333 (+/-0.000) for {'max_depth': 9, 'min_samples_split': 290, 'random_state': 7}\n",
      "0.333 (+/-0.000) for {'max_depth': 9, 'min_samples_split': 310, 'random_state': 7}\n",
      "0.333 (+/-0.000) for {'max_depth': 9, 'min_samples_split': 330, 'random_state': 7}\n",
      "0.333 (+/-0.000) for {'max_depth': 9, 'min_samples_split': 350, 'random_state': 7}\n",
      "0.333 (+/-0.000) for {'max_depth': 9, 'min_samples_split': 370, 'random_state': 7}\n",
      "0.333 (+/-0.000) for {'max_depth': 9, 'min_samples_split': 390, 'random_state': 7}\n",
      "0.333 (+/-0.000) for {'max_depth': 9, 'min_samples_split': 410, 'random_state': 7}\n",
      "0.333 (+/-0.000) for {'max_depth': 9, 'min_samples_split': 430, 'random_state': 7}\n",
      "0.333 (+/-0.000) for {'max_depth': 9, 'min_samples_split': 450, 'random_state': 7}\n",
      "0.333 (+/-0.000) for {'max_depth': 9, 'min_samples_split': 470, 'random_state': 7}\n",
      "0.333 (+/-0.000) for {'max_depth': 9, 'min_samples_split': 490, 'random_state': 7}\n",
      "0.987 (+/-0.027) for {'max_depth': 10, 'min_samples_split': 10, 'random_state': 7}\n",
      "0.987 (+/-0.027) for {'max_depth': 10, 'min_samples_split': 30, 'random_state': 7}\n",
      "0.987 (+/-0.027) for {'max_depth': 10, 'min_samples_split': 50, 'random_state': 7}\n",
      "0.653 (+/-0.027) for {'max_depth': 10, 'min_samples_split': 70, 'random_state': 7}\n",
      "0.333 (+/-0.000) for {'max_depth': 10, 'min_samples_split': 90, 'random_state': 7}\n",
      "0.333 (+/-0.000) for {'max_depth': 10, 'min_samples_split': 110, 'random_state': 7}\n",
      "0.333 (+/-0.000) for {'max_depth': 10, 'min_samples_split': 130, 'random_state': 7}\n",
      "0.333 (+/-0.000) for {'max_depth': 10, 'min_samples_split': 150, 'random_state': 7}\n",
      "0.333 (+/-0.000) for {'max_depth': 10, 'min_samples_split': 170, 'random_state': 7}\n",
      "0.333 (+/-0.000) for {'max_depth': 10, 'min_samples_split': 190, 'random_state': 7}\n",
      "0.333 (+/-0.000) for {'max_depth': 10, 'min_samples_split': 210, 'random_state': 7}\n",
      "0.333 (+/-0.000) for {'max_depth': 10, 'min_samples_split': 230, 'random_state': 7}\n",
      "0.333 (+/-0.000) for {'max_depth': 10, 'min_samples_split': 250, 'random_state': 7}\n",
      "0.333 (+/-0.000) for {'max_depth': 10, 'min_samples_split': 270, 'random_state': 7}\n",
      "0.333 (+/-0.000) for {'max_depth': 10, 'min_samples_split': 290, 'random_state': 7}\n",
      "0.333 (+/-0.000) for {'max_depth': 10, 'min_samples_split': 310, 'random_state': 7}\n",
      "0.333 (+/-0.000) for {'max_depth': 10, 'min_samples_split': 330, 'random_state': 7}\n",
      "0.333 (+/-0.000) for {'max_depth': 10, 'min_samples_split': 350, 'random_state': 7}\n",
      "0.333 (+/-0.000) for {'max_depth': 10, 'min_samples_split': 370, 'random_state': 7}\n",
      "0.333 (+/-0.000) for {'max_depth': 10, 'min_samples_split': 390, 'random_state': 7}\n",
      "0.333 (+/-0.000) for {'max_depth': 10, 'min_samples_split': 410, 'random_state': 7}\n",
      "0.333 (+/-0.000) for {'max_depth': 10, 'min_samples_split': 430, 'random_state': 7}\n",
      "0.333 (+/-0.000) for {'max_depth': 10, 'min_samples_split': 450, 'random_state': 7}\n",
      "0.333 (+/-0.000) for {'max_depth': 10, 'min_samples_split': 470, 'random_state': 7}\n",
      "0.333 (+/-0.000) for {'max_depth': 10, 'min_samples_split': 490, 'random_state': 7}\n",
      "0.987 (+/-0.027) for {'max_depth': 11, 'min_samples_split': 10, 'random_state': 7}\n",
      "0.987 (+/-0.027) for {'max_depth': 11, 'min_samples_split': 30, 'random_state': 7}\n",
      "0.987 (+/-0.027) for {'max_depth': 11, 'min_samples_split': 50, 'random_state': 7}\n",
      "0.653 (+/-0.027) for {'max_depth': 11, 'min_samples_split': 70, 'random_state': 7}\n",
      "0.333 (+/-0.000) for {'max_depth': 11, 'min_samples_split': 90, 'random_state': 7}\n",
      "0.333 (+/-0.000) for {'max_depth': 11, 'min_samples_split': 110, 'random_state': 7}\n",
      "0.333 (+/-0.000) for {'max_depth': 11, 'min_samples_split': 130, 'random_state': 7}\n",
      "0.333 (+/-0.000) for {'max_depth': 11, 'min_samples_split': 150, 'random_state': 7}\n",
      "0.333 (+/-0.000) for {'max_depth': 11, 'min_samples_split': 170, 'random_state': 7}\n",
      "0.333 (+/-0.000) for {'max_depth': 11, 'min_samples_split': 190, 'random_state': 7}\n",
      "0.333 (+/-0.000) for {'max_depth': 11, 'min_samples_split': 210, 'random_state': 7}\n",
      "0.333 (+/-0.000) for {'max_depth': 11, 'min_samples_split': 230, 'random_state': 7}\n",
      "0.333 (+/-0.000) for {'max_depth': 11, 'min_samples_split': 250, 'random_state': 7}\n",
      "0.333 (+/-0.000) for {'max_depth': 11, 'min_samples_split': 270, 'random_state': 7}\n",
      "0.333 (+/-0.000) for {'max_depth': 11, 'min_samples_split': 290, 'random_state': 7}\n",
      "0.333 (+/-0.000) for {'max_depth': 11, 'min_samples_split': 310, 'random_state': 7}\n",
      "0.333 (+/-0.000) for {'max_depth': 11, 'min_samples_split': 330, 'random_state': 7}\n",
      "0.333 (+/-0.000) for {'max_depth': 11, 'min_samples_split': 350, 'random_state': 7}\n",
      "0.333 (+/-0.000) for {'max_depth': 11, 'min_samples_split': 370, 'random_state': 7}\n",
      "0.333 (+/-0.000) for {'max_depth': 11, 'min_samples_split': 390, 'random_state': 7}\n",
      "0.333 (+/-0.000) for {'max_depth': 11, 'min_samples_split': 410, 'random_state': 7}\n",
      "0.333 (+/-0.000) for {'max_depth': 11, 'min_samples_split': 430, 'random_state': 7}\n",
      "0.333 (+/-0.000) for {'max_depth': 11, 'min_samples_split': 450, 'random_state': 7}\n",
      "0.333 (+/-0.000) for {'max_depth': 11, 'min_samples_split': 470, 'random_state': 7}\n",
      "0.333 (+/-0.000) for {'max_depth': 11, 'min_samples_split': 490, 'random_state': 7}\n",
      "0.987 (+/-0.027) for {'max_depth': 12, 'min_samples_split': 10, 'random_state': 7}\n",
      "0.987 (+/-0.027) for {'max_depth': 12, 'min_samples_split': 30, 'random_state': 7}\n",
      "0.987 (+/-0.027) for {'max_depth': 12, 'min_samples_split': 50, 'random_state': 7}\n",
      "0.653 (+/-0.027) for {'max_depth': 12, 'min_samples_split': 70, 'random_state': 7}\n",
      "0.333 (+/-0.000) for {'max_depth': 12, 'min_samples_split': 90, 'random_state': 7}\n",
      "0.333 (+/-0.000) for {'max_depth': 12, 'min_samples_split': 110, 'random_state': 7}\n",
      "0.333 (+/-0.000) for {'max_depth': 12, 'min_samples_split': 130, 'random_state': 7}\n",
      "0.333 (+/-0.000) for {'max_depth': 12, 'min_samples_split': 150, 'random_state': 7}\n",
      "0.333 (+/-0.000) for {'max_depth': 12, 'min_samples_split': 170, 'random_state': 7}\n",
      "0.333 (+/-0.000) for {'max_depth': 12, 'min_samples_split': 190, 'random_state': 7}\n",
      "0.333 (+/-0.000) for {'max_depth': 12, 'min_samples_split': 210, 'random_state': 7}\n",
      "0.333 (+/-0.000) for {'max_depth': 12, 'min_samples_split': 230, 'random_state': 7}\n",
      "0.333 (+/-0.000) for {'max_depth': 12, 'min_samples_split': 250, 'random_state': 7}\n",
      "0.333 (+/-0.000) for {'max_depth': 12, 'min_samples_split': 270, 'random_state': 7}\n",
      "0.333 (+/-0.000) for {'max_depth': 12, 'min_samples_split': 290, 'random_state': 7}\n",
      "0.333 (+/-0.000) for {'max_depth': 12, 'min_samples_split': 310, 'random_state': 7}\n",
      "0.333 (+/-0.000) for {'max_depth': 12, 'min_samples_split': 330, 'random_state': 7}\n",
      "0.333 (+/-0.000) for {'max_depth': 12, 'min_samples_split': 350, 'random_state': 7}\n",
      "0.333 (+/-0.000) for {'max_depth': 12, 'min_samples_split': 370, 'random_state': 7}\n",
      "0.333 (+/-0.000) for {'max_depth': 12, 'min_samples_split': 390, 'random_state': 7}\n",
      "0.333 (+/-0.000) for {'max_depth': 12, 'min_samples_split': 410, 'random_state': 7}\n",
      "0.333 (+/-0.000) for {'max_depth': 12, 'min_samples_split': 430, 'random_state': 7}\n",
      "0.333 (+/-0.000) for {'max_depth': 12, 'min_samples_split': 450, 'random_state': 7}\n",
      "0.333 (+/-0.000) for {'max_depth': 12, 'min_samples_split': 470, 'random_state': 7}\n",
      "0.333 (+/-0.000) for {'max_depth': 12, 'min_samples_split': 490, 'random_state': 7}\n",
      "0.987 (+/-0.027) for {'max_depth': 13, 'min_samples_split': 10, 'random_state': 7}\n",
      "0.987 (+/-0.027) for {'max_depth': 13, 'min_samples_split': 30, 'random_state': 7}\n",
      "0.987 (+/-0.027) for {'max_depth': 13, 'min_samples_split': 50, 'random_state': 7}\n",
      "0.653 (+/-0.027) for {'max_depth': 13, 'min_samples_split': 70, 'random_state': 7}\n",
      "0.333 (+/-0.000) for {'max_depth': 13, 'min_samples_split': 90, 'random_state': 7}\n",
      "0.333 (+/-0.000) for {'max_depth': 13, 'min_samples_split': 110, 'random_state': 7}\n",
      "0.333 (+/-0.000) for {'max_depth': 13, 'min_samples_split': 130, 'random_state': 7}\n",
      "0.333 (+/-0.000) for {'max_depth': 13, 'min_samples_split': 150, 'random_state': 7}\n",
      "0.333 (+/-0.000) for {'max_depth': 13, 'min_samples_split': 170, 'random_state': 7}\n",
      "0.333 (+/-0.000) for {'max_depth': 13, 'min_samples_split': 190, 'random_state': 7}\n",
      "0.333 (+/-0.000) for {'max_depth': 13, 'min_samples_split': 210, 'random_state': 7}\n",
      "0.333 (+/-0.000) for {'max_depth': 13, 'min_samples_split': 230, 'random_state': 7}\n",
      "0.333 (+/-0.000) for {'max_depth': 13, 'min_samples_split': 250, 'random_state': 7}\n",
      "0.333 (+/-0.000) for {'max_depth': 13, 'min_samples_split': 270, 'random_state': 7}\n",
      "0.333 (+/-0.000) for {'max_depth': 13, 'min_samples_split': 290, 'random_state': 7}\n",
      "0.333 (+/-0.000) for {'max_depth': 13, 'min_samples_split': 310, 'random_state': 7}\n",
      "0.333 (+/-0.000) for {'max_depth': 13, 'min_samples_split': 330, 'random_state': 7}\n",
      "0.333 (+/-0.000) for {'max_depth': 13, 'min_samples_split': 350, 'random_state': 7}\n",
      "0.333 (+/-0.000) for {'max_depth': 13, 'min_samples_split': 370, 'random_state': 7}\n",
      "0.333 (+/-0.000) for {'max_depth': 13, 'min_samples_split': 390, 'random_state': 7}\n",
      "0.333 (+/-0.000) for {'max_depth': 13, 'min_samples_split': 410, 'random_state': 7}\n",
      "0.333 (+/-0.000) for {'max_depth': 13, 'min_samples_split': 430, 'random_state': 7}\n",
      "0.333 (+/-0.000) for {'max_depth': 13, 'min_samples_split': 450, 'random_state': 7}\n",
      "0.333 (+/-0.000) for {'max_depth': 13, 'min_samples_split': 470, 'random_state': 7}\n",
      "0.333 (+/-0.000) for {'max_depth': 13, 'min_samples_split': 490, 'random_state': 7}\n",
      "0.987 (+/-0.027) for {'max_depth': 14, 'min_samples_split': 10, 'random_state': 7}\n",
      "0.987 (+/-0.027) for {'max_depth': 14, 'min_samples_split': 30, 'random_state': 7}\n",
      "0.987 (+/-0.027) for {'max_depth': 14, 'min_samples_split': 50, 'random_state': 7}\n",
      "0.653 (+/-0.027) for {'max_depth': 14, 'min_samples_split': 70, 'random_state': 7}\n",
      "0.333 (+/-0.000) for {'max_depth': 14, 'min_samples_split': 90, 'random_state': 7}\n",
      "0.333 (+/-0.000) for {'max_depth': 14, 'min_samples_split': 110, 'random_state': 7}\n",
      "0.333 (+/-0.000) for {'max_depth': 14, 'min_samples_split': 130, 'random_state': 7}\n",
      "0.333 (+/-0.000) for {'max_depth': 14, 'min_samples_split': 150, 'random_state': 7}\n",
      "0.333 (+/-0.000) for {'max_depth': 14, 'min_samples_split': 170, 'random_state': 7}\n",
      "0.333 (+/-0.000) for {'max_depth': 14, 'min_samples_split': 190, 'random_state': 7}\n",
      "0.333 (+/-0.000) for {'max_depth': 14, 'min_samples_split': 210, 'random_state': 7}\n",
      "0.333 (+/-0.000) for {'max_depth': 14, 'min_samples_split': 230, 'random_state': 7}\n",
      "0.333 (+/-0.000) for {'max_depth': 14, 'min_samples_split': 250, 'random_state': 7}\n",
      "0.333 (+/-0.000) for {'max_depth': 14, 'min_samples_split': 270, 'random_state': 7}\n",
      "0.333 (+/-0.000) for {'max_depth': 14, 'min_samples_split': 290, 'random_state': 7}\n",
      "0.333 (+/-0.000) for {'max_depth': 14, 'min_samples_split': 310, 'random_state': 7}\n",
      "0.333 (+/-0.000) for {'max_depth': 14, 'min_samples_split': 330, 'random_state': 7}\n",
      "0.333 (+/-0.000) for {'max_depth': 14, 'min_samples_split': 350, 'random_state': 7}\n",
      "0.333 (+/-0.000) for {'max_depth': 14, 'min_samples_split': 370, 'random_state': 7}\n",
      "0.333 (+/-0.000) for {'max_depth': 14, 'min_samples_split': 390, 'random_state': 7}\n",
      "0.333 (+/-0.000) for {'max_depth': 14, 'min_samples_split': 410, 'random_state': 7}\n",
      "0.333 (+/-0.000) for {'max_depth': 14, 'min_samples_split': 430, 'random_state': 7}\n",
      "0.333 (+/-0.000) for {'max_depth': 14, 'min_samples_split': 450, 'random_state': 7}\n",
      "0.333 (+/-0.000) for {'max_depth': 14, 'min_samples_split': 470, 'random_state': 7}\n",
      "0.333 (+/-0.000) for {'max_depth': 14, 'min_samples_split': 490, 'random_state': 7}\n",
      "0.987 (+/-0.027) for {'max_depth': 15, 'min_samples_split': 10, 'random_state': 7}\n",
      "0.987 (+/-0.027) for {'max_depth': 15, 'min_samples_split': 30, 'random_state': 7}\n",
      "0.987 (+/-0.027) for {'max_depth': 15, 'min_samples_split': 50, 'random_state': 7}\n",
      "0.653 (+/-0.027) for {'max_depth': 15, 'min_samples_split': 70, 'random_state': 7}\n",
      "0.333 (+/-0.000) for {'max_depth': 15, 'min_samples_split': 90, 'random_state': 7}\n",
      "0.333 (+/-0.000) for {'max_depth': 15, 'min_samples_split': 110, 'random_state': 7}\n",
      "0.333 (+/-0.000) for {'max_depth': 15, 'min_samples_split': 130, 'random_state': 7}\n",
      "0.333 (+/-0.000) for {'max_depth': 15, 'min_samples_split': 150, 'random_state': 7}\n",
      "0.333 (+/-0.000) for {'max_depth': 15, 'min_samples_split': 170, 'random_state': 7}\n",
      "0.333 (+/-0.000) for {'max_depth': 15, 'min_samples_split': 190, 'random_state': 7}\n",
      "0.333 (+/-0.000) for {'max_depth': 15, 'min_samples_split': 210, 'random_state': 7}\n",
      "0.333 (+/-0.000) for {'max_depth': 15, 'min_samples_split': 230, 'random_state': 7}\n",
      "0.333 (+/-0.000) for {'max_depth': 15, 'min_samples_split': 250, 'random_state': 7}\n",
      "0.333 (+/-0.000) for {'max_depth': 15, 'min_samples_split': 270, 'random_state': 7}\n",
      "0.333 (+/-0.000) for {'max_depth': 15, 'min_samples_split': 290, 'random_state': 7}\n",
      "0.333 (+/-0.000) for {'max_depth': 15, 'min_samples_split': 310, 'random_state': 7}\n",
      "0.333 (+/-0.000) for {'max_depth': 15, 'min_samples_split': 330, 'random_state': 7}\n",
      "0.333 (+/-0.000) for {'max_depth': 15, 'min_samples_split': 350, 'random_state': 7}\n",
      "0.333 (+/-0.000) for {'max_depth': 15, 'min_samples_split': 370, 'random_state': 7}\n",
      "0.333 (+/-0.000) for {'max_depth': 15, 'min_samples_split': 390, 'random_state': 7}\n",
      "0.333 (+/-0.000) for {'max_depth': 15, 'min_samples_split': 410, 'random_state': 7}\n",
      "0.333 (+/-0.000) for {'max_depth': 15, 'min_samples_split': 430, 'random_state': 7}\n",
      "0.333 (+/-0.000) for {'max_depth': 15, 'min_samples_split': 450, 'random_state': 7}\n",
      "0.333 (+/-0.000) for {'max_depth': 15, 'min_samples_split': 470, 'random_state': 7}\n",
      "0.333 (+/-0.000) for {'max_depth': 15, 'min_samples_split': 490, 'random_state': 7}\n",
      "\n",
      "Detailed classification report:\n",
      "\n",
      "The model is trained on the full development set.\n",
      "The scores are computed on the full evaluation set.\n",
      "\n",
      "              precision    recall  f1-score   support\n",
      "\n",
      "           1       1.00      0.93      0.97        15\n",
      "           2       0.83      1.00      0.91         5\n",
      "           3       1.00      1.00      1.00         3\n",
      "\n",
      "    accuracy                           0.96        23\n",
      "   macro avg       0.94      0.98      0.96        23\n",
      "weighted avg       0.96      0.96      0.96        23\n",
      "\n",
      "\n"
     ]
    }
   ],
   "source": [
    "##Arbol de Desicion\n",
    "from sklearn.model_selection import GridSearchCV\n",
    "from sklearn.metrics import classification_report\n",
    "from imblearn.combine import SMOTEENN\n",
    "print(__doc__)\n",
    " \n",
    "# Set the parameters by cross-validation\n",
    "tuned_parameters = [{\"max_depth\": range(1,16), \"random_state\":[7],'min_samples_split' : range(10,500,20)}                   ]\n",
    "\n",
    "scores = ['balanced_accuracy']  \n",
    "skf = StratifiedKFold(n_splits=2)\n",
    "\n",
    "for score in scores:\n",
    "    print(\"# Tuning hyper-parameters for %s\" % score)\n",
    "    print()\n",
    "\n",
    "    clf = GridSearchCV(DecisionTreeClassifier(),tuned_parameters, cv=skf,\n",
    "                       scoring=  score)\n",
    "    clf.fit(X_train_res, y_train_res)\n",
    "\n",
    "    print(\"Best parameters set found on development set:\")\n",
    "    print()\n",
    "    print(clf.best_params_)\n",
    "    print()\n",
    "    print(\"Grid scores on development set:\")\n",
    "    print()\n",
    "    means = clf.cv_results_['mean_test_score']\n",
    "    stds = clf.cv_results_['std_test_score']\n",
    "    for mean, std, params in zip(means, stds, clf.cv_results_['params']):\n",
    "        print(\"%0.3f (+/-%0.03f) for %r\"\n",
    "              % (mean, std * 2, params))\n",
    "    print()\n",
    "\n",
    "    print(\"Detailed classification report:\")\n",
    "    print()\n",
    "    print(\"The model is trained on the full development set.\")\n",
    "    print(\"The scores are computed on the full evaluation set.\")\n",
    "    print()\n",
    "    y_true, y_pred = y_test, clf.predict(X_test)\n",
    "    print(classification_report(y_true, y_pred))\n",
    "    print()"
   ]
  },
  {
   "cell_type": "markdown",
   "metadata": {},
   "source": [
    "# Por lo tanto nos quedamos con el modelo anterior\n",
    "from joblib import load\n",
    "DTSf = load('DTS.joblib') "
   ]
  },
  {
   "cell_type": "code",
   "execution_count": 92,
   "metadata": {},
   "outputs": [
    {
     "name": "stdout",
     "output_type": "stream",
     "text": [
      "0.23.1\n"
     ]
    }
   ],
   "source": [
    "import sklearn\n",
    "print( sklearn.__version__)"
   ]
  },
  {
   "cell_type": "code",
   "execution_count": null,
   "metadata": {},
   "outputs": [],
   "source": []
  }
 ],
 "metadata": {
  "kernelspec": {
   "display_name": "Python 3",
   "language": "python",
   "name": "python3"
  },
  "language_info": {
   "codemirror_mode": {
    "name": "ipython",
    "version": 3
   },
   "file_extension": ".py",
   "mimetype": "text/x-python",
   "name": "python",
   "nbconvert_exporter": "python",
   "pygments_lexer": "ipython3",
   "version": "3.8.3"
  }
 },
 "nbformat": 4,
 "nbformat_minor": 4
}
