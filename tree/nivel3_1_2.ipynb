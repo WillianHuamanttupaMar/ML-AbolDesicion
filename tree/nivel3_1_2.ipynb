{
 "cells": [
  {
   "cell_type": "markdown",
   "metadata": {},
   "source": [
    "<center><img src=\"http://milestonetechs.com/media/filer_public_thumbnails/filer_public/24/26/24260fc4-2637-4348-b2bd-3c333f2f806d/python_logo.jpg__800x250_q85_crop_subsampling-2.jpg\" width=\"1000\"></center>"
   ]
  },
  {
   "cell_type": "markdown",
   "metadata": {},
   "source": [
    "# Programa de Especialización en Python\n",
    "\n",
    "## Tema: Árboles de Decisión\n",
    "\n",
    "### Prof. Manuel Sigüeñas, M.Sc.(c)\n",
    "[msguenas@socialdata-peru.com](msguenas@socialdata-peru.com)"
   ]
  },
  {
   "cell_type": "markdown",
   "metadata": {},
   "source": [
    "### Librerías Necesarias."
   ]
  },
  {
   "cell_type": "code",
   "execution_count": null,
   "metadata": {},
   "outputs": [],
   "source": [
    "#pip install sklearn"
   ]
  },
  {
   "cell_type": "code",
   "execution_count": null,
   "metadata": {},
   "outputs": [],
   "source": [
    "#pip install subprocess.run"
   ]
  },
  {
   "cell_type": "code",
   "execution_count": 36,
   "metadata": {},
   "outputs": [],
   "source": [
    "#pip install pyparsing\n",
    "#!pip install pygraphviz "
   ]
  },
  {
   "cell_type": "code",
   "execution_count": 33,
   "metadata": {},
   "outputs": [
    {
     "name": "stdout",
     "output_type": "stream",
     "text": [
      "Requirement already satisfied: graphviz in c:\\programdata\\anaconda3\\lib\\site-packages (0.13)\n"
     ]
    }
   ],
   "source": [
    "!pip install graphviz"
   ]
  },
  {
   "cell_type": "code",
   "execution_count": null,
   "metadata": {},
   "outputs": [],
   "source": [
    "#pip install pydot"
   ]
  },
  {
   "cell_type": "code",
   "execution_count": null,
   "metadata": {},
   "outputs": [],
   "source": [
    "#pip install mlxtend"
   ]
  },
  {
   "cell_type": "code",
   "execution_count": null,
   "metadata": {},
   "outputs": [],
   "source": [
    "#pip install pydotplus"
   ]
  },
  {
   "cell_type": "markdown",
   "metadata": {},
   "source": []
  },
  {
   "cell_type": "markdown",
   "metadata": {},
   "source": []
  },
  {
   "cell_type": "markdown",
   "metadata": {},
   "source": [
    "# Cargar y Preprocesar la data"
   ]
  },
  {
   "cell_type": "markdown",
   "metadata": {},
   "source": [
    "Para este caso usaremos la data diabetes."
   ]
  },
  {
   "cell_type": "code",
   "execution_count": 2,
   "metadata": {},
   "outputs": [],
   "source": [
    "import numpy as np\n",
    "import pandas as pd"
   ]
  },
  {
   "cell_type": "markdown",
   "metadata": {},
   "source": [
    "- Usamos la función read_excel para abrir el archivo \"diabetes_py\"."
   ]
  },
  {
   "cell_type": "code",
   "execution_count": 3,
   "metadata": {},
   "outputs": [],
   "source": [
    "bu = pd.read_excel('C:/Users/SOCIAL DATA/Dropbox/PYTHON/3. avanzado/sesión_01/datos/diabetes_py.xlsx')"
   ]
  },
  {
   "cell_type": "markdown",
   "metadata": {},
   "source": [
    "- Muestra de las 5 primeras muestras de la data"
   ]
  },
  {
   "cell_type": "code",
   "execution_count": 4,
   "metadata": {
    "scrolled": true
   },
   "outputs": [
    {
     "data": {
      "text/html": [
       "<div>\n",
       "<style scoped>\n",
       "    .dataframe tbody tr th:only-of-type {\n",
       "        vertical-align: middle;\n",
       "    }\n",
       "\n",
       "    .dataframe tbody tr th {\n",
       "        vertical-align: top;\n",
       "    }\n",
       "\n",
       "    .dataframe thead th {\n",
       "        text-align: right;\n",
       "    }\n",
       "</style>\n",
       "<table border=\"1\" class=\"dataframe\">\n",
       "  <thead>\n",
       "    <tr style=\"text-align: right;\">\n",
       "      <th></th>\n",
       "      <th>clase</th>\n",
       "      <th>glucosa</th>\n",
       "      <th>insulina</th>\n",
       "      <th>sspg</th>\n",
       "    </tr>\n",
       "  </thead>\n",
       "  <tbody>\n",
       "    <tr>\n",
       "      <th>0</th>\n",
       "      <td>1</td>\n",
       "      <td>97</td>\n",
       "      <td>289</td>\n",
       "      <td>117</td>\n",
       "    </tr>\n",
       "    <tr>\n",
       "      <th>1</th>\n",
       "      <td>1</td>\n",
       "      <td>105</td>\n",
       "      <td>319</td>\n",
       "      <td>143</td>\n",
       "    </tr>\n",
       "    <tr>\n",
       "      <th>2</th>\n",
       "      <td>1</td>\n",
       "      <td>90</td>\n",
       "      <td>356</td>\n",
       "      <td>199</td>\n",
       "    </tr>\n",
       "    <tr>\n",
       "      <th>3</th>\n",
       "      <td>1</td>\n",
       "      <td>90</td>\n",
       "      <td>323</td>\n",
       "      <td>240</td>\n",
       "    </tr>\n",
       "    <tr>\n",
       "      <th>4</th>\n",
       "      <td>1</td>\n",
       "      <td>86</td>\n",
       "      <td>381</td>\n",
       "      <td>157</td>\n",
       "    </tr>\n",
       "  </tbody>\n",
       "</table>\n",
       "</div>"
      ],
      "text/plain": [
       "   clase  glucosa  insulina  sspg\n",
       "0      1       97       289   117\n",
       "1      1      105       319   143\n",
       "2      1       90       356   199\n",
       "3      1       90       323   240\n",
       "4      1       86       381   157"
      ]
     },
     "execution_count": 4,
     "metadata": {},
     "output_type": "execute_result"
    }
   ],
   "source": [
    "bu.head()"
   ]
  },
  {
   "cell_type": "markdown",
   "metadata": {},
   "source": [
    "- Valores únicos de la variable target"
   ]
  },
  {
   "cell_type": "code",
   "execution_count": 5,
   "metadata": {},
   "outputs": [
    {
     "name": "stdout",
     "output_type": "stream",
     "text": [
      "class labels [1 2 3]\n"
     ]
    }
   ],
   "source": [
    "import numpy as np\n",
    "print('class labels', np.unique(bu.iloc[:,0])) #  usamos la función uniquwe, de la librería numpy, para encontrar \n",
    "                                               #  los valores únicos de la variable target. bu.iloc, lo usamos para selec-\n",
    "                                               #  cionar la variables target de la data bupa, en este caso ubicado en la \n",
    "                                               #  primera columna\n",
    "### clase 1 = normal\n",
    "### clase 2 = pre-diabetico\n",
    "### clase 3 = diabetico"
   ]
  },
  {
   "cell_type": "markdown",
   "metadata": {},
   "source": [
    "- Separamos la data, una de entrenamiento y otra de prueba.\n",
    "- También, para esta parte, solo usaremos dos variables, glucosa e insulina. "
   ]
  },
  {
   "cell_type": "code",
   "execution_count": 6,
   "metadata": {},
   "outputs": [],
   "source": [
    "from sklearn.model_selection import train_test_split\n",
    "x, y = bu.iloc[:, 1:4].values, bu.iloc[:, 0].values  ## separamos las variables predictoras (glucosa, insulina[:,1:3]) y la variable dependiente\n",
    "x_train, x_test, y_train, y_test = train_test_split (x, y, test_size=0.3, ### separamos en 4 objetos las variables, dos seran de prueba y dos de entrenamiento\n",
    "                        stratify=y)   ### le damos el 30% a la dara de prueba\n",
    "## usamos la función model_selection, de la librería sklearn\n",
    "## Para este caso, también solo se usara"
   ]
  },
  {
   "cell_type": "markdown",
   "metadata": {},
   "source": [
    "# Árbol de Decisión"
   ]
  },
  {
   "cell_type": "markdown",
   "metadata": {},
   "source": [
    "- Los árboles de decisión pueden generar límites de decisión complejos dividiendo las caracteríticas en rectangulos. Sin embargo, debemos con cuidado puesto que cuanto más profundo es es el árbol de decisión, más complejo es el límite de decisión, el cual puede caer más facilmente en el sobreajuste. "
   ]
  },
  {
   "cell_type": "markdown",
   "metadata": {},
   "source": [
    "Entrenamos un árbol de decisión con una profundidad máxima de 3, utilizando la entropía como criterio para la impureza."
   ]
  },
  {
   "cell_type": "code",
   "execution_count": 7,
   "metadata": {},
   "outputs": [],
   "source": [
    "from sklearn.tree import DecisionTreeClassifier\n",
    "from mlxtend.plotting import plot_decision_regions\n",
    "import matplotlib.pyplot as plt\n",
    "import numpy as np"
   ]
  },
  {
   "cell_type": "code",
   "execution_count": 10,
   "metadata": {},
   "outputs": [],
   "source": [
    "from sklearn.model_selection import train_test_split\n",
    "x, y = bu.iloc[:, 1:3].values, bu.iloc[:, 0].values  ## separamos las variables predictoras (glucosa, insulina[:,1:3]) y la variable dependiente\n",
    "X_TRAIN, X_TEST, Y_TRAIN, Y_TEST = train_test_split (x, y, test_size=0.3, ### separamos en 4 objetos las variables, dos seran de prueba y dos de entrenamiento\n",
    "                        stratify=y)   ### le damos el 30% a la dara de prueba\n",
    "## usamos la función model_selection, de la librería sklearn\n",
    "## Para este caso, también solo se usara"
   ]
  },
  {
   "cell_type": "code",
   "execution_count": 8,
   "metadata": {},
   "outputs": [],
   "source": [
    "from sklearn.tree import DecisionTreeClassifier \n",
    "tree = DecisionTreeClassifier(criterion='entropy', min_samples_split=20, random_state=99)\n",
    "#max_depth = 4, random_state=1\n",
    "## almacenar en el objeto tree = la función DecisionTreeClassifier"
   ]
  },
  {
   "cell_type": "code",
   "execution_count": 11,
   "metadata": {},
   "outputs": [
    {
     "data": {
      "image/png": "[encoded data removed]",
      "text/plain": [
       "<Figure size 432x288 with 1 Axes>"
      ]
     },
     "metadata": {
      "needs_background": "light"
     },
     "output_type": "display_data"
    },
    {
     "name": "stdout",
     "output_type": "stream",
     "text": [
      "DATOS DEL MODELO ÁRBOLES DE DECISIÓN REGRESION\n",
      "\n",
      "Precisión del modelo:\n",
      "0.9875\n"
     ]
    }
   ],
   "source": [
    "tree.fit(X_TRAIN, Y_TRAIN) ## Usamos la data de entrenamiento para crear el árbol\n",
    "x_combined= np.vstack((X_TRAIN, X_TEST)) ## Combinamos las variables x\n",
    "y_combined= np.hstack((Y_TRAIN, Y_TEST)) ## Combinamos las varialbes y \n",
    "plot_decision_regions(x_combined, y_combined, clf=tree, X_highlight=X_TEST) ## Gráficamos el árbol en base a áreas, con la función \"plot_decision_regions\"\n",
    "plt.xlabel('glucosa') ## asignamos el nombre al eje x\n",
    "plt.ylabel('insulina')## asignamos el nombre al eje y\n",
    "plt.legend(loc='upper left')## posición de la leyenda\n",
    "plt.show() ##gráficamos\n",
    "\n",
    "\n",
    "print('DATOS DEL MODELO ÁRBOLES DE DECISIÓN REGRESION')\n",
    "print()\n",
    "print('Precisión del modelo:')\n",
    "print(tree.score(X_TRAIN, Y_TRAIN))"
   ]
  },
  {
   "cell_type": "markdown",
   "metadata": {},
   "source": [
    "### Graficar el Árbol"
   ]
  },
  {
   "cell_type": "markdown",
   "metadata": {},
   "source": [
    "- Scikit-learn nos permite exportar el árbol en un archivo .dot, que podemos visualizar con el programa GraphViz."
   ]
  },
  {
   "cell_type": "code",
   "execution_count": 37,
   "metadata": {},
   "outputs": [],
   "source": [
    "from sklearn.tree import DecisionTreeClassifier\n",
    "import sklearn.datasets as datasets\n",
    "import graphviz\n",
    "#import pygraphviz \n",
    "from sklearn.externals.six import StringIO\n",
    "from sklearn.tree import export_graphviz\n",
    "from subprocess import check_call"
   ]
  },
  {
   "cell_type": "code",
   "execution_count": 13,
   "metadata": {},
   "outputs": [
    {
     "data": {
      "text/html": [
       "<div>\n",
       "<style scoped>\n",
       "    .dataframe tbody tr th:only-of-type {\n",
       "        vertical-align: middle;\n",
       "    }\n",
       "\n",
       "    .dataframe tbody tr th {\n",
       "        vertical-align: top;\n",
       "    }\n",
       "\n",
       "    .dataframe thead th {\n",
       "        text-align: right;\n",
       "    }\n",
       "</style>\n",
       "<table border=\"1\" class=\"dataframe\">\n",
       "  <thead>\n",
       "    <tr style=\"text-align: right;\">\n",
       "      <th></th>\n",
       "      <th>glucosa</th>\n",
       "      <th>insulina</th>\n",
       "      <th>sspg</th>\n",
       "      <th>clase</th>\n",
       "    </tr>\n",
       "  </thead>\n",
       "  <tbody>\n",
       "    <tr>\n",
       "      <th>0</th>\n",
       "      <td>138</td>\n",
       "      <td>741</td>\n",
       "      <td>219</td>\n",
       "      <td>3</td>\n",
       "    </tr>\n",
       "    <tr>\n",
       "      <th>1</th>\n",
       "      <td>100</td>\n",
       "      <td>398</td>\n",
       "      <td>122</td>\n",
       "      <td>1</td>\n",
       "    </tr>\n",
       "    <tr>\n",
       "      <th>2</th>\n",
       "      <td>86</td>\n",
       "      <td>381</td>\n",
       "      <td>157</td>\n",
       "      <td>1</td>\n",
       "    </tr>\n",
       "    <tr>\n",
       "      <th>3</th>\n",
       "      <td>103</td>\n",
       "      <td>537</td>\n",
       "      <td>622</td>\n",
       "      <td>2</td>\n",
       "    </tr>\n",
       "    <tr>\n",
       "      <th>4</th>\n",
       "      <td>93</td>\n",
       "      <td>364</td>\n",
       "      <td>156</td>\n",
       "      <td>1</td>\n",
       "    </tr>\n",
       "  </tbody>\n",
       "</table>\n",
       "</div>"
      ],
      "text/plain": [
       "   glucosa  insulina  sspg  clase\n",
       "0      138       741   219      3\n",
       "1      100       398   122      1\n",
       "2       86       381   157      1\n",
       "3      103       537   622      2\n",
       "4       93       364   156      1"
      ]
     },
     "execution_count": 13,
     "metadata": {},
     "output_type": "execute_result"
    }
   ],
   "source": [
    "#Datos de entrenamiento\n",
    "x_t= pd.DataFrame(x_train, columns=[\"glucosa\", \"insulina\", \"sspg\"])\n",
    "y_t= pd.DataFrame(y_train, columns=[\"clase\"])\n",
    "\n",
    "bupa_entrenamiento = pd.concat([x_t, y_t], axis=1)\n",
    "bupa_entrenamiento.head()"
   ]
  },
  {
   "cell_type": "code",
   "execution_count": 14,
   "metadata": {},
   "outputs": [],
   "source": [
    "colnames = bupa_entrenamiento.columns.tolist()\n",
    "predictors = colnames[0:3]\n",
    "target = colnames[3]"
   ]
  },
  {
   "cell_type": "code",
   "execution_count": 15,
   "metadata": {},
   "outputs": [],
   "source": [
    "tree = DecisionTreeClassifier(criterion='entropy', min_samples_split=20, random_state=99)"
   ]
  },
  {
   "cell_type": "code",
   "execution_count": 16,
   "metadata": {},
   "outputs": [],
   "source": [
    "tree_fit =tree.fit(x_train, y_train) ## Usamos la data de entrenamiento para crear el árbol"
   ]
  },
  {
   "cell_type": "code",
   "execution_count": 17,
   "metadata": {},
   "outputs": [],
   "source": [
    "with open(\"bupa_dtree.dot\", \"w\") as dotfile:\n",
    "    export_graphviz(tree_fit, out_file=dotfile, feature_names=predictors)\n",
    "    dotfile.close()"
   ]
  },
  {
   "cell_type": "code",
   "execution_count": 38,
   "metadata": {},
   "outputs": [],
   "source": [
    "import os\n",
    "from graphviz import Source"
   ]
  },
  {
   "cell_type": "code",
   "execution_count": 49,
   "metadata": {},
   "outputs": [],
   "source": [
    "os.environ[\"PATH\"] += os.pathsep + 'C:/ProgramData/Anaconda3/Lib/site-packages/graphviz/__pycache__'"
   ]
  },
  {
   "cell_type": "code",
   "execution_count": 50,
   "metadata": {},
   "outputs": [
    {
     "data": {
      "text/plain": [
       "'digraph Tree {\\nnode [shape=box] ;\\n0 [label=\"insulina <= 420.5\\\\nentropy = 1.408\\\\nsamples = 80\\\\nvalue = [46, 18, 16]\"] ;\\n1 [label=\"entropy = 0.0\\\\nsamples = 45\\\\nvalue = [45, 0, 0]\"] ;\\n0 -> 1 [labeldistance=2.5, labelangle=45, headlabel=\"True\"] ;\\n2 [label=\"glucosa <= 117.0\\\\nentropy = 1.156\\\\nsamples = 35\\\\nvalue = [1, 18, 16]\"] ;\\n0 -> 2 [labeldistance=2.5, labelangle=-45, headlabel=\"False\"] ;\\n3 [label=\"entropy = 0.297\\\\nsamples = 19\\\\nvalue = [1, 18, 0]\"] ;\\n2 -> 3 ;\\n4 [label=\"entropy = 0.0\\\\nsamples = 16\\\\nvalue = [0, 0, 16]\"] ;\\n2 -> 4 ;\\n}'"
      ]
     },
     "execution_count": 50,
     "metadata": {},
     "output_type": "execute_result"
    }
   ],
   "source": [
    "file = open(\"bupa_dtree.dot\", \"r\")\n",
    "text = file.read()\n",
    "text"
   ]
  },
  {
   "cell_type": "code",
   "execution_count": 1,
   "metadata": {},
   "outputs": [],
   "source": [
    "#Source(text)"
   ]
  },
  {
   "cell_type": "markdown",
   "metadata": {},
   "source": [
    "### Validación del modelo"
   ]
  },
  {
   "cell_type": "markdown",
   "metadata": {},
   "source": [
    "##### accuracy "
   ]
  },
  {
   "cell_type": "code",
   "execution_count": 52,
   "metadata": {},
   "outputs": [
    {
     "data": {
      "text/plain": [
       "0.9875"
      ]
     },
     "execution_count": 52,
     "metadata": {},
     "output_type": "execute_result"
    }
   ],
   "source": [
    "#entrenamiento \n",
    "tree.score(x_train, y_train)"
   ]
  },
  {
   "cell_type": "code",
   "execution_count": 124,
   "metadata": {},
   "outputs": [
    {
     "data": {
      "text/plain": [
       "array([3, 2, 3, 1, 1, 1, 1, 2, 3, 1, 1, 2, 3, 1, 1, 1, 1, 2, 1, 1, 3, 1,\n",
       "       3, 3, 3, 1, 2, 1, 1, 2, 1, 1, 1, 3, 2, 2, 1, 1, 3, 1, 1, 2, 1, 1,\n",
       "       1, 2, 2, 1, 3, 1, 1, 3, 1, 2, 2, 1, 1, 1, 3, 2, 2, 3, 2, 2, 1, 3,\n",
       "       1, 1, 1, 3, 1, 1, 2, 1, 1, 1, 1, 1, 1, 2], dtype=int64)"
      ]
     },
     "execution_count": 124,
     "metadata": {},
     "output_type": "execute_result"
    }
   ],
   "source": [
    "probs = tree_fit.predict(x_train)\n",
    "probs"
   ]
  },
  {
   "cell_type": "code",
   "execution_count": null,
   "metadata": {},
   "outputs": [],
   "source": []
  },
  {
   "cell_type": "code",
   "execution_count": 56,
   "metadata": {},
   "outputs": [
    {
     "data": {
      "text/plain": [
       "array([1, 1, 1, 2, 1, 1, 2, 1, 1, 3, 1, 3, 1, 1, 1, 1, 1, 1, 1, 3, 2, 2,\n",
       "       1, 3, 1, 1, 1, 2, 2, 1, 3, 3, 2, 2, 3], dtype=int64)"
      ]
     },
     "execution_count": 56,
     "metadata": {},
     "output_type": "execute_result"
    }
   ],
   "source": [
    "probs2 = tree_fit.predict(x_test)\n",
    "probs2"
   ]
  },
  {
   "cell_type": "code",
   "execution_count": 54,
   "metadata": {},
   "outputs": [],
   "source": [
    "from sklearn import metrics"
   ]
  },
  {
   "cell_type": "code",
   "execution_count": 57,
   "metadata": {},
   "outputs": [
    {
     "data": {
      "text/plain": [
       "1.0"
      ]
     },
     "execution_count": 57,
     "metadata": {},
     "output_type": "execute_result"
    }
   ],
   "source": [
    "metrics.accuracy_score(y_test, probs2)"
   ]
  },
  {
   "cell_type": "code",
   "execution_count": null,
   "metadata": {},
   "outputs": [],
   "source": []
  }
 ],
 "metadata": {
  "kernelspec": {
   "display_name": "Python 3",
   "language": "python",
   "name": "python3"
  },
  "language_info": {
   "codemirror_mode": {
    "name": "ipython",
    "version": 3
   },
   "file_extension": ".py",
   "mimetype": "text/x-python",
   "name": "python",
   "nbconvert_exporter": "python",
   "pygments_lexer": "ipython3",
   "version": "3.8.3"
  }
 },
 "nbformat": 4,
 "nbformat_minor": 2
}
